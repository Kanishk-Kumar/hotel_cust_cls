{
  "cells": [
    {
      "cell_type": "markdown",
      "id": "f748e138-c15f-4db1-af94-378e342ac4f9",
      "metadata": {
        "id": "f748e138-c15f-4db1-af94-378e342ac4f9"
      },
      "source": [
        "# Part 1\n",
        " <font size=\"2\">(The document says this part has three questions but I can only find two, second one is from the Preface.)</font>"
      ]
    },
    {
      "cell_type": "markdown",
      "source": [
        "#### Questions:"
      ],
      "metadata": {
        "id": "3JncSGIr6QbH"
      },
      "id": "3JncSGIr6QbH"
    },
    {
      "cell_type": "markdown",
      "source": [
        "**1. Write a regex to extract all the numbers with orange color background from\n",
        "the text below in italics.**"
      ],
      "metadata": {
        "id": "REplfUgpxKhy"
      },
      "id": "REplfUgpxKhy"
    },
    {
      "cell_type": "markdown",
      "id": "24f01aa9-ed9d-4499-8f3f-c43acd6cfb93",
      "metadata": {
        "id": "24f01aa9-ed9d-4499-8f3f-c43acd6cfb93"
      },
      "source": [
        "![](https://github.com/Kanishk-Kumar/hotel_cust_cls/blob/main/json.png?raw=true)"
      ]
    },
    {
      "cell_type": "markdown",
      "metadata": {
        "id": "kZtrPcXVoAv0"
      },
      "source": [
        "Answer:"
      ],
      "id": "kZtrPcXVoAv0"
    },
    {
      "cell_type": "code",
      "execution_count": null,
      "id": "49a42486-8dff-4c53-b230-a70d5a245456",
      "metadata": {
        "colab": {
          "base_uri": "https://localhost:8080/"
        },
        "id": "49a42486-8dff-4c53-b230-a70d5a245456",
        "outputId": "36e4772c-1004-4850-f122-e3ab2f4d399a"
      },
      "outputs": [
        {
          "output_type": "stream",
          "name": "stdout",
          "text": [
            "['1', '2', '3', '4', '5', '6', '7', '8', '9', '10', '11', '648', '649', '650', '651', '652', '653', '3']\n"
          ]
        }
      ],
      "source": [
        "import re\n",
        "\n",
        "regex = r'(?<=:)\\d+'\n",
        "\n",
        "test_str = \"{\\\"orders\\\":[{\\\"id\\\":1},{\\\"id\\\":2},{\\\"id\\\":3},{\\\"id\\\":4},{\\\"id\\\":5},{\\\"id\\\":6},{\\\"id\\\":7},{\\\"id\\\":8},{\\\"id\\\":9},{\\\"id\\\":10},{\\\"id\\\":11},{\\\"id\\\":648},{\\\"id\\\":649},{\\\"id\\\":650},{\\\"id\\\":651},{\\\"id\\\":652},{\\\"id\\\":653}],\\\"errors\\\":[{\\\"code\\\":3,\\\"message\\\":\\\"[PHP Warning #2] count(): Parameter must be an array or an object that implements Countable (153)\\\"}]}\"\n",
        "\n",
        "matches = re.finditer(regex, test_str, re.MULTILINE | re.DOTALL)\n",
        "\n",
        "result = []\n",
        "\n",
        "for matchNum, match in enumerate(matches, start=1):\n",
        "    result.append(match.group())\n",
        "\n",
        "print(result)"
      ]
    },
    {
      "cell_type": "markdown",
      "id": "caa62ad9-cf94-4c59-8e90-8c263818d1fe",
      "metadata": {
        "id": "caa62ad9-cf94-4c59-8e90-8c263818d1fe"
      },
      "source": [
        "**2. Why does Google Chrome does not appear in top 3 when you search for browser on playstore?**"
      ]
    },
    {
      "cell_type": "markdown",
      "id": "74291365-9a21-44f0-aaa4-3cfe22e72d4e",
      "metadata": {
        "id": "74291365-9a21-44f0-aaa4-3cfe22e72d4e"
      },
      "source": [
        "Answer:\n",
        "\n",
        "Probably because it comes pre-installed in Android devices which constitutes the majority of mobile phones and users don't usually need to download it, unlike other mobile web browsers."
      ]
    },
    {
      "cell_type": "markdown",
      "id": "b199d5f3-cfe8-4160-a8f2-3cb721d53694",
      "metadata": {
        "id": "b199d5f3-cfe8-4160-a8f2-3cb721d53694"
      },
      "source": [
        "# Part 2"
      ]
    },
    {
      "cell_type": "markdown",
      "id": "N_ezc98E9biS",
      "metadata": {
        "id": "N_ezc98E9biS"
      },
      "source": [
        "## Objective\n",
        "Train a machine learning model (preferably with a neural network) that\n",
        "predicts the customer who is going to be checked in."
      ]
    },
    {
      "cell_type": "markdown",
      "id": "a22306fe-b4f9-4a5f-b195-7510915cc301",
      "metadata": {
        "id": "a22306fe-b4f9-4a5f-b195-7510915cc301"
      },
      "source": [
        "## EDA And Feature Engineering"
      ]
    },
    {
      "cell_type": "markdown",
      "id": "824a8795-e44e-429f-ac2d-bfbe065305a3",
      "metadata": {
        "id": "824a8795-e44e-429f-ac2d-bfbe065305a3"
      },
      "source": [
        "Loading all the necessary libraries and data."
      ]
    },
    {
      "cell_type": "code",
      "execution_count": null,
      "id": "63284156-e756-428e-9950-59c7e5338560",
      "metadata": {
        "id": "63284156-e756-428e-9950-59c7e5338560"
      },
      "outputs": [],
      "source": [
        "import itertools\n",
        "import pandas as pd\n",
        "import numpy as np\n",
        "import matplotlib.pyplot as plt\n",
        "import seaborn as sns\n",
        "import tensorflow as tf\n",
        "from datetime import datetime\n",
        "from sklearn.preprocessing import StandardScaler\n",
        "from sklearn.model_selection import StratifiedShuffleSplit, GridSearchCV\n",
        "from tensorflow.keras import Sequential \n",
        "from tensorflow.keras.layers import Dense\n",
        "from sklearn.svm import LinearSVC\n",
        "from sklearn.tree import DecisionTreeClassifier\n",
        "from sklearn import metrics\n",
        "from sklearn.metrics import accuracy_score, confusion_matrix\n",
        "\n",
        "pd.set_option('display.max_columns', None)\n",
        "pd.options.display.precision = 2"
      ]
    },
    {
      "cell_type": "code",
      "execution_count": null,
      "id": "ffb21a59-de6e-44a6-ba30-65843d495512",
      "metadata": {
        "colab": {
          "base_uri": "https://localhost:8080/",
          "height": 574
        },
        "id": "ffb21a59-de6e-44a6-ba30-65843d495512",
        "outputId": "99b0cb1f-19da-4f65-e2c5-c532b243280b",
        "tags": []
      },
      "outputs": [
        {
          "output_type": "execute_result",
          "data": {
            "text/plain": [
              "       Unnamed: 0     ID Nationality   Age  DaysSinceCreation  \\\n",
              "0               0      1         PRT  51.0                150   \n",
              "1               1      2         PRT   NaN               1095   \n",
              "2               2      3         DEU  31.0               1095   \n",
              "3               3      4         FRA  60.0               1095   \n",
              "4               4      5         FRA  51.0               1095   \n",
              "...           ...    ...         ...   ...                ...   \n",
              "82575       82575  82576         SWE  51.0                 12   \n",
              "82576       82576  82577         SWE  50.0                 12   \n",
              "82577       82577  82578         DEU  50.0                 12   \n",
              "82578       82578  82579         PRT   NaN                 12   \n",
              "82579       82579  82580         DEU  17.0                 12   \n",
              "\n",
              "       AverageLeadTime  LodgingRevenue  OtherRevenue  BookingsCanceled  \\\n",
              "0                   45          371.00         105.3                 1   \n",
              "1                   61          280.00          53.0                 0   \n",
              "2                    0            0.00           0.0                 0   \n",
              "3                   93          240.00          60.0                 0   \n",
              "4                    0            0.00           0.0                 0   \n",
              "...                ...             ...           ...               ...   \n",
              "82575              114          190.08           6.0                 0   \n",
              "82576                0            0.00           0.0                 0   \n",
              "82577               18          222.00         255.0                 0   \n",
              "82578               11          255.00           9.0                 0   \n",
              "82579                0            0.00           0.0                 0   \n",
              "\n",
              "       BookingsNoShowed  BookingsCheckedIn  PersonsNights  RoomNights  \\\n",
              "0                     0                  3              8           5   \n",
              "1                     0                  1             10           5   \n",
              "2                     0                  0              0           0   \n",
              "3                     0                  1             10           5   \n",
              "4                     0                  0              0           0   \n",
              "...                 ...                ...            ...         ...   \n",
              "82575                 0                  1              6           3   \n",
              "82576                 0                  0              0           0   \n",
              "82577                 0                  1              3           3   \n",
              "82578                 0                  1              3           3   \n",
              "82579                 0                  0              0           0   \n",
              "\n",
              "       DaysSinceLastStay  DaysSinceFirstStay    DistributionChannel  \\\n",
              "0                    151                1074              Corporate   \n",
              "1                   1100                1100  Travel Agent/Operator   \n",
              "2                     -1                  -1  Travel Agent/Operator   \n",
              "3                   1100                1100  Travel Agent/Operator   \n",
              "4                     -1                  -1  Travel Agent/Operator   \n",
              "...                  ...                 ...                    ...   \n",
              "82575                 15                  15  Travel Agent/Operator   \n",
              "82576                 -1                  -1  Travel Agent/Operator   \n",
              "82577                 15                  15  Travel Agent/Operator   \n",
              "82578                 15                  15  Travel Agent/Operator   \n",
              "82579                 -1                  -1  Travel Agent/Operator   \n",
              "\n",
              "               MarketSegment  SRHighFloor  SRLowFloor  SRAccessibleRoom  \\\n",
              "0                  Corporate            0           0                 0   \n",
              "1      Travel Agent/Operator            0           0                 0   \n",
              "2      Travel Agent/Operator            0           0                 0   \n",
              "3      Travel Agent/Operator            0           0                 0   \n",
              "4      Travel Agent/Operator            0           0                 0   \n",
              "...                      ...          ...         ...               ...   \n",
              "82575                  Other            0           0                 0   \n",
              "82576                  Other            0           0                 0   \n",
              "82577                  Other            0           0                 0   \n",
              "82578                  Other            0           0                 0   \n",
              "82579                  Other            0           0                 0   \n",
              "\n",
              "       SRMediumFloor  SRBathtub  SRShower  SRCrib  SRKingSizeBed  SRTwinBed  \\\n",
              "0                  0          0         0       0              0          0   \n",
              "1                  0          0         0       0              0          0   \n",
              "2                  0          0         0       0              0          0   \n",
              "3                  0          0         0       0              0          0   \n",
              "4                  0          0         0       0              0          0   \n",
              "...              ...        ...       ...     ...            ...        ...   \n",
              "82575              0          0         0       0              1          0   \n",
              "82576              0          0         0       0              1          0   \n",
              "82577              0          0         0       0              0          0   \n",
              "82578              0          0         0       0              0          0   \n",
              "82579              0          0         0       0              0          0   \n",
              "\n",
              "       SRNearElevator  SRAwayFromElevator  SRNoAlcoholInMiniBar  SRQuietRoom  \n",
              "0                   0                   0                     0            0  \n",
              "1                   0                   0                     0            0  \n",
              "2                   0                   0                     0            0  \n",
              "3                   0                   0                     0            0  \n",
              "4                   0                   0                     0            0  \n",
              "...               ...                 ...                   ...          ...  \n",
              "82575               0                   0                     0            0  \n",
              "82576               0                   0                     0            0  \n",
              "82577               0                   0                     0            0  \n",
              "82578               0                   0                     0            0  \n",
              "82579               0                   0                     0            0  \n",
              "\n",
              "[82580 rows x 30 columns]"
            ],
            "text/html": [
              "\n",
              "  <div id=\"df-6c69c9b8-85fe-4e40-b110-4d8ea9aa85ec\">\n",
              "    <div class=\"colab-df-container\">\n",
              "      <div>\n",
              "<style scoped>\n",
              "    .dataframe tbody tr th:only-of-type {\n",
              "        vertical-align: middle;\n",
              "    }\n",
              "\n",
              "    .dataframe tbody tr th {\n",
              "        vertical-align: top;\n",
              "    }\n",
              "\n",
              "    .dataframe thead th {\n",
              "        text-align: right;\n",
              "    }\n",
              "</style>\n",
              "<table border=\"1\" class=\"dataframe\">\n",
              "  <thead>\n",
              "    <tr style=\"text-align: right;\">\n",
              "      <th></th>\n",
              "      <th>Unnamed: 0</th>\n",
              "      <th>ID</th>\n",
              "      <th>Nationality</th>\n",
              "      <th>Age</th>\n",
              "      <th>DaysSinceCreation</th>\n",
              "      <th>AverageLeadTime</th>\n",
              "      <th>LodgingRevenue</th>\n",
              "      <th>OtherRevenue</th>\n",
              "      <th>BookingsCanceled</th>\n",
              "      <th>BookingsNoShowed</th>\n",
              "      <th>BookingsCheckedIn</th>\n",
              "      <th>PersonsNights</th>\n",
              "      <th>RoomNights</th>\n",
              "      <th>DaysSinceLastStay</th>\n",
              "      <th>DaysSinceFirstStay</th>\n",
              "      <th>DistributionChannel</th>\n",
              "      <th>MarketSegment</th>\n",
              "      <th>SRHighFloor</th>\n",
              "      <th>SRLowFloor</th>\n",
              "      <th>SRAccessibleRoom</th>\n",
              "      <th>SRMediumFloor</th>\n",
              "      <th>SRBathtub</th>\n",
              "      <th>SRShower</th>\n",
              "      <th>SRCrib</th>\n",
              "      <th>SRKingSizeBed</th>\n",
              "      <th>SRTwinBed</th>\n",
              "      <th>SRNearElevator</th>\n",
              "      <th>SRAwayFromElevator</th>\n",
              "      <th>SRNoAlcoholInMiniBar</th>\n",
              "      <th>SRQuietRoom</th>\n",
              "    </tr>\n",
              "  </thead>\n",
              "  <tbody>\n",
              "    <tr>\n",
              "      <th>0</th>\n",
              "      <td>0</td>\n",
              "      <td>1</td>\n",
              "      <td>PRT</td>\n",
              "      <td>51.0</td>\n",
              "      <td>150</td>\n",
              "      <td>45</td>\n",
              "      <td>371.00</td>\n",
              "      <td>105.3</td>\n",
              "      <td>1</td>\n",
              "      <td>0</td>\n",
              "      <td>3</td>\n",
              "      <td>8</td>\n",
              "      <td>5</td>\n",
              "      <td>151</td>\n",
              "      <td>1074</td>\n",
              "      <td>Corporate</td>\n",
              "      <td>Corporate</td>\n",
              "      <td>0</td>\n",
              "      <td>0</td>\n",
              "      <td>0</td>\n",
              "      <td>0</td>\n",
              "      <td>0</td>\n",
              "      <td>0</td>\n",
              "      <td>0</td>\n",
              "      <td>0</td>\n",
              "      <td>0</td>\n",
              "      <td>0</td>\n",
              "      <td>0</td>\n",
              "      <td>0</td>\n",
              "      <td>0</td>\n",
              "    </tr>\n",
              "    <tr>\n",
              "      <th>1</th>\n",
              "      <td>1</td>\n",
              "      <td>2</td>\n",
              "      <td>PRT</td>\n",
              "      <td>NaN</td>\n",
              "      <td>1095</td>\n",
              "      <td>61</td>\n",
              "      <td>280.00</td>\n",
              "      <td>53.0</td>\n",
              "      <td>0</td>\n",
              "      <td>0</td>\n",
              "      <td>1</td>\n",
              "      <td>10</td>\n",
              "      <td>5</td>\n",
              "      <td>1100</td>\n",
              "      <td>1100</td>\n",
              "      <td>Travel Agent/Operator</td>\n",
              "      <td>Travel Agent/Operator</td>\n",
              "      <td>0</td>\n",
              "      <td>0</td>\n",
              "      <td>0</td>\n",
              "      <td>0</td>\n",
              "      <td>0</td>\n",
              "      <td>0</td>\n",
              "      <td>0</td>\n",
              "      <td>0</td>\n",
              "      <td>0</td>\n",
              "      <td>0</td>\n",
              "      <td>0</td>\n",
              "      <td>0</td>\n",
              "      <td>0</td>\n",
              "    </tr>\n",
              "    <tr>\n",
              "      <th>2</th>\n",
              "      <td>2</td>\n",
              "      <td>3</td>\n",
              "      <td>DEU</td>\n",
              "      <td>31.0</td>\n",
              "      <td>1095</td>\n",
              "      <td>0</td>\n",
              "      <td>0.00</td>\n",
              "      <td>0.0</td>\n",
              "      <td>0</td>\n",
              "      <td>0</td>\n",
              "      <td>0</td>\n",
              "      <td>0</td>\n",
              "      <td>0</td>\n",
              "      <td>-1</td>\n",
              "      <td>-1</td>\n",
              "      <td>Travel Agent/Operator</td>\n",
              "      <td>Travel Agent/Operator</td>\n",
              "      <td>0</td>\n",
              "      <td>0</td>\n",
              "      <td>0</td>\n",
              "      <td>0</td>\n",
              "      <td>0</td>\n",
              "      <td>0</td>\n",
              "      <td>0</td>\n",
              "      <td>0</td>\n",
              "      <td>0</td>\n",
              "      <td>0</td>\n",
              "      <td>0</td>\n",
              "      <td>0</td>\n",
              "      <td>0</td>\n",
              "    </tr>\n",
              "    <tr>\n",
              "      <th>3</th>\n",
              "      <td>3</td>\n",
              "      <td>4</td>\n",
              "      <td>FRA</td>\n",
              "      <td>60.0</td>\n",
              "      <td>1095</td>\n",
              "      <td>93</td>\n",
              "      <td>240.00</td>\n",
              "      <td>60.0</td>\n",
              "      <td>0</td>\n",
              "      <td>0</td>\n",
              "      <td>1</td>\n",
              "      <td>10</td>\n",
              "      <td>5</td>\n",
              "      <td>1100</td>\n",
              "      <td>1100</td>\n",
              "      <td>Travel Agent/Operator</td>\n",
              "      <td>Travel Agent/Operator</td>\n",
              "      <td>0</td>\n",
              "      <td>0</td>\n",
              "      <td>0</td>\n",
              "      <td>0</td>\n",
              "      <td>0</td>\n",
              "      <td>0</td>\n",
              "      <td>0</td>\n",
              "      <td>0</td>\n",
              "      <td>0</td>\n",
              "      <td>0</td>\n",
              "      <td>0</td>\n",
              "      <td>0</td>\n",
              "      <td>0</td>\n",
              "    </tr>\n",
              "    <tr>\n",
              "      <th>4</th>\n",
              "      <td>4</td>\n",
              "      <td>5</td>\n",
              "      <td>FRA</td>\n",
              "      <td>51.0</td>\n",
              "      <td>1095</td>\n",
              "      <td>0</td>\n",
              "      <td>0.00</td>\n",
              "      <td>0.0</td>\n",
              "      <td>0</td>\n",
              "      <td>0</td>\n",
              "      <td>0</td>\n",
              "      <td>0</td>\n",
              "      <td>0</td>\n",
              "      <td>-1</td>\n",
              "      <td>-1</td>\n",
              "      <td>Travel Agent/Operator</td>\n",
              "      <td>Travel Agent/Operator</td>\n",
              "      <td>0</td>\n",
              "      <td>0</td>\n",
              "      <td>0</td>\n",
              "      <td>0</td>\n",
              "      <td>0</td>\n",
              "      <td>0</td>\n",
              "      <td>0</td>\n",
              "      <td>0</td>\n",
              "      <td>0</td>\n",
              "      <td>0</td>\n",
              "      <td>0</td>\n",
              "      <td>0</td>\n",
              "      <td>0</td>\n",
              "    </tr>\n",
              "    <tr>\n",
              "      <th>...</th>\n",
              "      <td>...</td>\n",
              "      <td>...</td>\n",
              "      <td>...</td>\n",
              "      <td>...</td>\n",
              "      <td>...</td>\n",
              "      <td>...</td>\n",
              "      <td>...</td>\n",
              "      <td>...</td>\n",
              "      <td>...</td>\n",
              "      <td>...</td>\n",
              "      <td>...</td>\n",
              "      <td>...</td>\n",
              "      <td>...</td>\n",
              "      <td>...</td>\n",
              "      <td>...</td>\n",
              "      <td>...</td>\n",
              "      <td>...</td>\n",
              "      <td>...</td>\n",
              "      <td>...</td>\n",
              "      <td>...</td>\n",
              "      <td>...</td>\n",
              "      <td>...</td>\n",
              "      <td>...</td>\n",
              "      <td>...</td>\n",
              "      <td>...</td>\n",
              "      <td>...</td>\n",
              "      <td>...</td>\n",
              "      <td>...</td>\n",
              "      <td>...</td>\n",
              "      <td>...</td>\n",
              "    </tr>\n",
              "    <tr>\n",
              "      <th>82575</th>\n",
              "      <td>82575</td>\n",
              "      <td>82576</td>\n",
              "      <td>SWE</td>\n",
              "      <td>51.0</td>\n",
              "      <td>12</td>\n",
              "      <td>114</td>\n",
              "      <td>190.08</td>\n",
              "      <td>6.0</td>\n",
              "      <td>0</td>\n",
              "      <td>0</td>\n",
              "      <td>1</td>\n",
              "      <td>6</td>\n",
              "      <td>3</td>\n",
              "      <td>15</td>\n",
              "      <td>15</td>\n",
              "      <td>Travel Agent/Operator</td>\n",
              "      <td>Other</td>\n",
              "      <td>0</td>\n",
              "      <td>0</td>\n",
              "      <td>0</td>\n",
              "      <td>0</td>\n",
              "      <td>0</td>\n",
              "      <td>0</td>\n",
              "      <td>0</td>\n",
              "      <td>1</td>\n",
              "      <td>0</td>\n",
              "      <td>0</td>\n",
              "      <td>0</td>\n",
              "      <td>0</td>\n",
              "      <td>0</td>\n",
              "    </tr>\n",
              "    <tr>\n",
              "      <th>82576</th>\n",
              "      <td>82576</td>\n",
              "      <td>82577</td>\n",
              "      <td>SWE</td>\n",
              "      <td>50.0</td>\n",
              "      <td>12</td>\n",
              "      <td>0</td>\n",
              "      <td>0.00</td>\n",
              "      <td>0.0</td>\n",
              "      <td>0</td>\n",
              "      <td>0</td>\n",
              "      <td>0</td>\n",
              "      <td>0</td>\n",
              "      <td>0</td>\n",
              "      <td>-1</td>\n",
              "      <td>-1</td>\n",
              "      <td>Travel Agent/Operator</td>\n",
              "      <td>Other</td>\n",
              "      <td>0</td>\n",
              "      <td>0</td>\n",
              "      <td>0</td>\n",
              "      <td>0</td>\n",
              "      <td>0</td>\n",
              "      <td>0</td>\n",
              "      <td>0</td>\n",
              "      <td>1</td>\n",
              "      <td>0</td>\n",
              "      <td>0</td>\n",
              "      <td>0</td>\n",
              "      <td>0</td>\n",
              "      <td>0</td>\n",
              "    </tr>\n",
              "    <tr>\n",
              "      <th>82577</th>\n",
              "      <td>82577</td>\n",
              "      <td>82578</td>\n",
              "      <td>DEU</td>\n",
              "      <td>50.0</td>\n",
              "      <td>12</td>\n",
              "      <td>18</td>\n",
              "      <td>222.00</td>\n",
              "      <td>255.0</td>\n",
              "      <td>0</td>\n",
              "      <td>0</td>\n",
              "      <td>1</td>\n",
              "      <td>3</td>\n",
              "      <td>3</td>\n",
              "      <td>15</td>\n",
              "      <td>15</td>\n",
              "      <td>Travel Agent/Operator</td>\n",
              "      <td>Other</td>\n",
              "      <td>0</td>\n",
              "      <td>0</td>\n",
              "      <td>0</td>\n",
              "      <td>0</td>\n",
              "      <td>0</td>\n",
              "      <td>0</td>\n",
              "      <td>0</td>\n",
              "      <td>0</td>\n",
              "      <td>0</td>\n",
              "      <td>0</td>\n",
              "      <td>0</td>\n",
              "      <td>0</td>\n",
              "      <td>0</td>\n",
              "    </tr>\n",
              "    <tr>\n",
              "      <th>82578</th>\n",
              "      <td>82578</td>\n",
              "      <td>82579</td>\n",
              "      <td>PRT</td>\n",
              "      <td>NaN</td>\n",
              "      <td>12</td>\n",
              "      <td>11</td>\n",
              "      <td>255.00</td>\n",
              "      <td>9.0</td>\n",
              "      <td>0</td>\n",
              "      <td>0</td>\n",
              "      <td>1</td>\n",
              "      <td>3</td>\n",
              "      <td>3</td>\n",
              "      <td>15</td>\n",
              "      <td>15</td>\n",
              "      <td>Travel Agent/Operator</td>\n",
              "      <td>Other</td>\n",
              "      <td>0</td>\n",
              "      <td>0</td>\n",
              "      <td>0</td>\n",
              "      <td>0</td>\n",
              "      <td>0</td>\n",
              "      <td>0</td>\n",
              "      <td>0</td>\n",
              "      <td>0</td>\n",
              "      <td>0</td>\n",
              "      <td>0</td>\n",
              "      <td>0</td>\n",
              "      <td>0</td>\n",
              "      <td>0</td>\n",
              "    </tr>\n",
              "    <tr>\n",
              "      <th>82579</th>\n",
              "      <td>82579</td>\n",
              "      <td>82580</td>\n",
              "      <td>DEU</td>\n",
              "      <td>17.0</td>\n",
              "      <td>12</td>\n",
              "      <td>0</td>\n",
              "      <td>0.00</td>\n",
              "      <td>0.0</td>\n",
              "      <td>0</td>\n",
              "      <td>0</td>\n",
              "      <td>0</td>\n",
              "      <td>0</td>\n",
              "      <td>0</td>\n",
              "      <td>-1</td>\n",
              "      <td>-1</td>\n",
              "      <td>Travel Agent/Operator</td>\n",
              "      <td>Other</td>\n",
              "      <td>0</td>\n",
              "      <td>0</td>\n",
              "      <td>0</td>\n",
              "      <td>0</td>\n",
              "      <td>0</td>\n",
              "      <td>0</td>\n",
              "      <td>0</td>\n",
              "      <td>0</td>\n",
              "      <td>0</td>\n",
              "      <td>0</td>\n",
              "      <td>0</td>\n",
              "      <td>0</td>\n",
              "      <td>0</td>\n",
              "    </tr>\n",
              "  </tbody>\n",
              "</table>\n",
              "<p>82580 rows × 30 columns</p>\n",
              "</div>\n",
              "      <button class=\"colab-df-convert\" onclick=\"convertToInteractive('df-6c69c9b8-85fe-4e40-b110-4d8ea9aa85ec')\"\n",
              "              title=\"Convert this dataframe to an interactive table.\"\n",
              "              style=\"display:none;\">\n",
              "        \n",
              "  <svg xmlns=\"http://www.w3.org/2000/svg\" height=\"24px\"viewBox=\"0 0 24 24\"\n",
              "       width=\"24px\">\n",
              "    <path d=\"M0 0h24v24H0V0z\" fill=\"none\"/>\n",
              "    <path d=\"M18.56 5.44l.94 2.06.94-2.06 2.06-.94-2.06-.94-.94-2.06-.94 2.06-2.06.94zm-11 1L8.5 8.5l.94-2.06 2.06-.94-2.06-.94L8.5 2.5l-.94 2.06-2.06.94zm10 10l.94 2.06.94-2.06 2.06-.94-2.06-.94-.94-2.06-.94 2.06-2.06.94z\"/><path d=\"M17.41 7.96l-1.37-1.37c-.4-.4-.92-.59-1.43-.59-.52 0-1.04.2-1.43.59L10.3 9.45l-7.72 7.72c-.78.78-.78 2.05 0 2.83L4 21.41c.39.39.9.59 1.41.59.51 0 1.02-.2 1.41-.59l7.78-7.78 2.81-2.81c.8-.78.8-2.07 0-2.86zM5.41 20L4 18.59l7.72-7.72 1.47 1.35L5.41 20z\"/>\n",
              "  </svg>\n",
              "      </button>\n",
              "      \n",
              "  <style>\n",
              "    .colab-df-container {\n",
              "      display:flex;\n",
              "      flex-wrap:wrap;\n",
              "      gap: 12px;\n",
              "    }\n",
              "\n",
              "    .colab-df-convert {\n",
              "      background-color: #E8F0FE;\n",
              "      border: none;\n",
              "      border-radius: 50%;\n",
              "      cursor: pointer;\n",
              "      display: none;\n",
              "      fill: #1967D2;\n",
              "      height: 32px;\n",
              "      padding: 0 0 0 0;\n",
              "      width: 32px;\n",
              "    }\n",
              "\n",
              "    .colab-df-convert:hover {\n",
              "      background-color: #E2EBFA;\n",
              "      box-shadow: 0px 1px 2px rgba(60, 64, 67, 0.3), 0px 1px 3px 1px rgba(60, 64, 67, 0.15);\n",
              "      fill: #174EA6;\n",
              "    }\n",
              "\n",
              "    [theme=dark] .colab-df-convert {\n",
              "      background-color: #3B4455;\n",
              "      fill: #D2E3FC;\n",
              "    }\n",
              "\n",
              "    [theme=dark] .colab-df-convert:hover {\n",
              "      background-color: #434B5C;\n",
              "      box-shadow: 0px 1px 3px 1px rgba(0, 0, 0, 0.15);\n",
              "      filter: drop-shadow(0px 1px 2px rgba(0, 0, 0, 0.3));\n",
              "      fill: #FFFFFF;\n",
              "    }\n",
              "  </style>\n",
              "\n",
              "      <script>\n",
              "        const buttonEl =\n",
              "          document.querySelector('#df-6c69c9b8-85fe-4e40-b110-4d8ea9aa85ec button.colab-df-convert');\n",
              "        buttonEl.style.display =\n",
              "          google.colab.kernel.accessAllowed ? 'block' : 'none';\n",
              "\n",
              "        async function convertToInteractive(key) {\n",
              "          const element = document.querySelector('#df-6c69c9b8-85fe-4e40-b110-4d8ea9aa85ec');\n",
              "          const dataTable =\n",
              "            await google.colab.kernel.invokeFunction('convertToInteractive',\n",
              "                                                     [key], {});\n",
              "          if (!dataTable) return;\n",
              "\n",
              "          const docLinkHtml = 'Like what you see? Visit the ' +\n",
              "            '<a target=\"_blank\" href=https://colab.research.google.com/notebooks/data_table.ipynb>data table notebook</a>'\n",
              "            + ' to learn more about interactive tables.';\n",
              "          element.innerHTML = '';\n",
              "          dataTable['output_type'] = 'display_data';\n",
              "          await google.colab.output.renderOutput(dataTable, element);\n",
              "          const docLink = document.createElement('div');\n",
              "          docLink.innerHTML = docLinkHtml;\n",
              "          element.appendChild(docLink);\n",
              "        }\n",
              "      </script>\n",
              "    </div>\n",
              "  </div>\n",
              "  "
            ]
          },
          "metadata": {},
          "execution_count": 3
        }
      ],
      "source": [
        "df = pd.read_csv('https://github.com/Kanishk-Kumar/hotel_cust_cls/blob/main/train.csv?raw=true')\n",
        "df"
      ]
    },
    {
      "cell_type": "code",
      "execution_count": null,
      "id": "7c60092d-0b8d-4fae-8568-9ab3096ab6be",
      "metadata": {
        "colab": {
          "base_uri": "https://localhost:8080/"
        },
        "id": "7c60092d-0b8d-4fae-8568-9ab3096ab6be",
        "outputId": "9a084c07-fb86-4cf7-e831-1171dab03787",
        "tags": []
      },
      "outputs": [
        {
          "output_type": "stream",
          "name": "stdout",
          "text": [
            "<class 'pandas.core.frame.DataFrame'>\n",
            "RangeIndex: 82580 entries, 0 to 82579\n",
            "Data columns (total 30 columns):\n",
            " #   Column                Non-Null Count  Dtype  \n",
            "---  ------                --------------  -----  \n",
            " 0   Unnamed: 0            82580 non-null  int64  \n",
            " 1   ID                    82580 non-null  int64  \n",
            " 2   Nationality           82580 non-null  object \n",
            " 3   Age                   78834 non-null  float64\n",
            " 4   DaysSinceCreation     82580 non-null  int64  \n",
            " 5   AverageLeadTime       82580 non-null  int64  \n",
            " 6   LodgingRevenue        82580 non-null  float64\n",
            " 7   OtherRevenue          82580 non-null  float64\n",
            " 8   BookingsCanceled      82580 non-null  int64  \n",
            " 9   BookingsNoShowed      82580 non-null  int64  \n",
            " 10  BookingsCheckedIn     82580 non-null  int64  \n",
            " 11  PersonsNights         82580 non-null  int64  \n",
            " 12  RoomNights            82580 non-null  int64  \n",
            " 13  DaysSinceLastStay     82580 non-null  int64  \n",
            " 14  DaysSinceFirstStay    82580 non-null  int64  \n",
            " 15  DistributionChannel   82580 non-null  object \n",
            " 16  MarketSegment         82580 non-null  object \n",
            " 17  SRHighFloor           82580 non-null  int64  \n",
            " 18  SRLowFloor            82580 non-null  int64  \n",
            " 19  SRAccessibleRoom      82580 non-null  int64  \n",
            " 20  SRMediumFloor         82580 non-null  int64  \n",
            " 21  SRBathtub             82580 non-null  int64  \n",
            " 22  SRShower              82580 non-null  int64  \n",
            " 23  SRCrib                82580 non-null  int64  \n",
            " 24  SRKingSizeBed         82580 non-null  int64  \n",
            " 25  SRTwinBed             82580 non-null  int64  \n",
            " 26  SRNearElevator        82580 non-null  int64  \n",
            " 27  SRAwayFromElevator    82580 non-null  int64  \n",
            " 28  SRNoAlcoholInMiniBar  82580 non-null  int64  \n",
            " 29  SRQuietRoom           82580 non-null  int64  \n",
            "dtypes: float64(3), int64(24), object(3)\n",
            "memory usage: 18.9+ MB\n"
          ]
        }
      ],
      "source": [
        "df.info()"
      ]
    },
    {
      "cell_type": "markdown",
      "id": "914465e6-6480-4397-8e7b-92b59722c05c",
      "metadata": {
        "id": "914465e6-6480-4397-8e7b-92b59722c05c"
      },
      "source": [
        "There's a column named 'Unnamed: 0' which I thought might be there for a purpose. From the code below you can see it's just an error from the data retrieval side."
      ]
    },
    {
      "cell_type": "code",
      "execution_count": null,
      "id": "d3e297f1-3cce-4f6b-a0d2-07134751c5bc",
      "metadata": {
        "colab": {
          "base_uri": "https://localhost:8080/"
        },
        "id": "d3e297f1-3cce-4f6b-a0d2-07134751c5bc",
        "outputId": "d859312c-473a-44f0-b90e-1416bfb4d76e"
      },
      "outputs": [
        {
          "output_type": "execute_result",
          "data": {
            "text/plain": [
              "True"
            ]
          },
          "metadata": {},
          "execution_count": 5
        }
      ],
      "source": [
        "(df['Unnamed: 0'] + 1 == df['ID']).all()"
      ]
    },
    {
      "cell_type": "markdown",
      "id": "92c1768e-6656-4d07-ac19-564ba6c4f9ba",
      "metadata": {
        "id": "92c1768e-6656-4d07-ac19-564ba6c4f9ba"
      },
      "source": [
        "So let's drop it along with the ID column."
      ]
    },
    {
      "cell_type": "code",
      "execution_count": null,
      "id": "e8c22342-828e-48f4-ae6b-2029aef681d0",
      "metadata": {
        "id": "e8c22342-828e-48f4-ae6b-2029aef681d0"
      },
      "outputs": [],
      "source": [
        "df.drop(['Unnamed: 0', 'ID'], axis = 1, inplace = True)"
      ]
    },
    {
      "cell_type": "code",
      "execution_count": null,
      "id": "4a2310f4-28e2-4495-8d43-0ea8463eb1a7",
      "metadata": {
        "colab": {
          "base_uri": "https://localhost:8080/"
        },
        "id": "4a2310f4-28e2-4495-8d43-0ea8463eb1a7",
        "outputId": "47a03788-4cbf-406b-ac58-688585cf2614",
        "tags": []
      },
      "outputs": [
        {
          "output_type": "execute_result",
          "data": {
            "text/plain": [
              "Nationality                0\n",
              "Age                     3746\n",
              "DaysSinceCreation          0\n",
              "AverageLeadTime            0\n",
              "LodgingRevenue             0\n",
              "OtherRevenue               0\n",
              "BookingsCanceled           0\n",
              "BookingsNoShowed           0\n",
              "BookingsCheckedIn          0\n",
              "PersonsNights              0\n",
              "RoomNights                 0\n",
              "DaysSinceLastStay          0\n",
              "DaysSinceFirstStay         0\n",
              "DistributionChannel        0\n",
              "MarketSegment              0\n",
              "SRHighFloor                0\n",
              "SRLowFloor                 0\n",
              "SRAccessibleRoom           0\n",
              "SRMediumFloor              0\n",
              "SRBathtub                  0\n",
              "SRShower                   0\n",
              "SRCrib                     0\n",
              "SRKingSizeBed              0\n",
              "SRTwinBed                  0\n",
              "SRNearElevator             0\n",
              "SRAwayFromElevator         0\n",
              "SRNoAlcoholInMiniBar       0\n",
              "SRQuietRoom                0\n",
              "dtype: int64"
            ]
          },
          "metadata": {},
          "execution_count": 7
        }
      ],
      "source": [
        "df.isnull().sum()"
      ]
    },
    {
      "cell_type": "markdown",
      "id": "67991e43-126b-40a7-a25d-cf0bd8b349a6",
      "metadata": {
        "id": "67991e43-126b-40a7-a25d-cf0bd8b349a6"
      },
      "source": [
        "Only age has null values. Let's fill those with the mean age of customers."
      ]
    },
    {
      "cell_type": "code",
      "execution_count": null,
      "id": "84d9a411-d96a-4323-a4fc-3341e7d446ab",
      "metadata": {
        "id": "84d9a411-d96a-4323-a4fc-3341e7d446ab"
      },
      "outputs": [],
      "source": [
        "df['Age'] = df['Age'].fillna(df['Age'].mean())"
      ]
    },
    {
      "cell_type": "code",
      "execution_count": null,
      "id": "ca51f83c-1040-4e35-90c3-3e0626e80c99",
      "metadata": {
        "colab": {
          "base_uri": "https://localhost:8080/",
          "height": 833
        },
        "id": "ca51f83c-1040-4e35-90c3-3e0626e80c99",
        "outputId": "f38871e7-386f-4edf-b0da-644416fa6847",
        "tags": []
      },
      "outputs": [
        {
          "output_type": "execute_result",
          "data": {
            "text/plain": [
              "                        count      mean     std   min    25%     50%    75%  \\\n",
              "Age                   82580.0  4.55e+01   16.15 -11.0   34.0   45.47   56.0   \n",
              "DaysSinceCreation     82580.0  4.59e+02  311.31  12.0  183.0  406.00  728.0   \n",
              "AverageLeadTime       82580.0  6.66e+01   87.93  -1.0    0.0   30.00  104.0   \n",
              "LodgingRevenue        82580.0  3.00e+02  373.34   0.0   66.4  234.00  403.8   \n",
              "OtherRevenue          82580.0  6.79e+01  114.50   0.0    2.0   39.00   88.0   \n",
              "BookingsCanceled      82580.0  2.05e-03    0.07   0.0    0.0    0.00    0.0   \n",
              "BookingsNoShowed      82580.0  6.42e-04    0.03   0.0    0.0    0.00    0.0   \n",
              "BookingsCheckedIn     82580.0  7.98e-01    0.70   0.0    1.0    1.00    1.0   \n",
              "PersonsNights         82580.0  4.67e+00    4.56   0.0    1.0    4.00    7.0   \n",
              "RoomNights            82580.0  2.37e+00    2.28   0.0    1.0    2.00    4.0   \n",
              "DaysSinceLastStay     82580.0  4.06e+02  346.50  -1.0   42.0  378.00  698.0   \n",
              "DaysSinceFirstStay    82580.0  4.08e+02  347.25  -1.0   44.0  388.00  705.0   \n",
              "SRHighFloor           82580.0  4.75e-02    0.21   0.0    0.0    0.00    0.0   \n",
              "SRLowFloor            82580.0  1.43e-03    0.04   0.0    0.0    0.00    0.0   \n",
              "SRAccessibleRoom      82580.0  2.54e-04    0.02   0.0    0.0    0.00    0.0   \n",
              "SRMediumFloor         82580.0  8.84e-04    0.03   0.0    0.0    0.00    0.0   \n",
              "SRBathtub             82580.0  2.81e-03    0.05   0.0    0.0    0.00    0.0   \n",
              "SRShower              82580.0  1.73e-03    0.04   0.0    0.0    0.00    0.0   \n",
              "SRCrib                82580.0  1.28e-02    0.11   0.0    0.0    0.00    0.0   \n",
              "SRKingSizeBed         82580.0  3.52e-01    0.48   0.0    0.0    0.00    1.0   \n",
              "SRTwinBed             82580.0  1.43e-01    0.35   0.0    0.0    0.00    0.0   \n",
              "SRNearElevator        82580.0  3.03e-04    0.02   0.0    0.0    0.00    0.0   \n",
              "SRAwayFromElevator    82580.0  3.55e-03    0.06   0.0    0.0    0.00    0.0   \n",
              "SRNoAlcoholInMiniBar  82580.0  1.21e-04    0.01   0.0    0.0    0.00    0.0   \n",
              "SRQuietRoom           82580.0  8.81e-02    0.28   0.0    0.0    0.00    0.0   \n",
              "\n",
              "                           max  \n",
              "Age                     122.00  \n",
              "DaysSinceCreation      1095.00  \n",
              "AverageLeadTime         588.00  \n",
              "LodgingRevenue        21781.00  \n",
              "OtherRevenue           7730.25  \n",
              "BookingsCanceled          9.00  \n",
              "BookingsNoShowed          3.00  \n",
              "BookingsCheckedIn        66.00  \n",
              "PersonsNights           116.00  \n",
              "RoomNights              185.00  \n",
              "DaysSinceLastStay      1104.00  \n",
              "DaysSinceFirstStay     1186.00  \n",
              "SRHighFloor               1.00  \n",
              "SRLowFloor                1.00  \n",
              "SRAccessibleRoom          1.00  \n",
              "SRMediumFloor             1.00  \n",
              "SRBathtub                 1.00  \n",
              "SRShower                  1.00  \n",
              "SRCrib                    1.00  \n",
              "SRKingSizeBed             1.00  \n",
              "SRTwinBed                 1.00  \n",
              "SRNearElevator            1.00  \n",
              "SRAwayFromElevator        1.00  \n",
              "SRNoAlcoholInMiniBar      1.00  \n",
              "SRQuietRoom               1.00  "
            ],
            "text/html": [
              "\n",
              "  <div id=\"df-2f32cd6b-c013-4bf6-b129-4a15c4490b4c\">\n",
              "    <div class=\"colab-df-container\">\n",
              "      <div>\n",
              "<style scoped>\n",
              "    .dataframe tbody tr th:only-of-type {\n",
              "        vertical-align: middle;\n",
              "    }\n",
              "\n",
              "    .dataframe tbody tr th {\n",
              "        vertical-align: top;\n",
              "    }\n",
              "\n",
              "    .dataframe thead th {\n",
              "        text-align: right;\n",
              "    }\n",
              "</style>\n",
              "<table border=\"1\" class=\"dataframe\">\n",
              "  <thead>\n",
              "    <tr style=\"text-align: right;\">\n",
              "      <th></th>\n",
              "      <th>count</th>\n",
              "      <th>mean</th>\n",
              "      <th>std</th>\n",
              "      <th>min</th>\n",
              "      <th>25%</th>\n",
              "      <th>50%</th>\n",
              "      <th>75%</th>\n",
              "      <th>max</th>\n",
              "    </tr>\n",
              "  </thead>\n",
              "  <tbody>\n",
              "    <tr>\n",
              "      <th>Age</th>\n",
              "      <td>82580.0</td>\n",
              "      <td>4.55e+01</td>\n",
              "      <td>16.15</td>\n",
              "      <td>-11.0</td>\n",
              "      <td>34.0</td>\n",
              "      <td>45.47</td>\n",
              "      <td>56.0</td>\n",
              "      <td>122.00</td>\n",
              "    </tr>\n",
              "    <tr>\n",
              "      <th>DaysSinceCreation</th>\n",
              "      <td>82580.0</td>\n",
              "      <td>4.59e+02</td>\n",
              "      <td>311.31</td>\n",
              "      <td>12.0</td>\n",
              "      <td>183.0</td>\n",
              "      <td>406.00</td>\n",
              "      <td>728.0</td>\n",
              "      <td>1095.00</td>\n",
              "    </tr>\n",
              "    <tr>\n",
              "      <th>AverageLeadTime</th>\n",
              "      <td>82580.0</td>\n",
              "      <td>6.66e+01</td>\n",
              "      <td>87.93</td>\n",
              "      <td>-1.0</td>\n",
              "      <td>0.0</td>\n",
              "      <td>30.00</td>\n",
              "      <td>104.0</td>\n",
              "      <td>588.00</td>\n",
              "    </tr>\n",
              "    <tr>\n",
              "      <th>LodgingRevenue</th>\n",
              "      <td>82580.0</td>\n",
              "      <td>3.00e+02</td>\n",
              "      <td>373.34</td>\n",
              "      <td>0.0</td>\n",
              "      <td>66.4</td>\n",
              "      <td>234.00</td>\n",
              "      <td>403.8</td>\n",
              "      <td>21781.00</td>\n",
              "    </tr>\n",
              "    <tr>\n",
              "      <th>OtherRevenue</th>\n",
              "      <td>82580.0</td>\n",
              "      <td>6.79e+01</td>\n",
              "      <td>114.50</td>\n",
              "      <td>0.0</td>\n",
              "      <td>2.0</td>\n",
              "      <td>39.00</td>\n",
              "      <td>88.0</td>\n",
              "      <td>7730.25</td>\n",
              "    </tr>\n",
              "    <tr>\n",
              "      <th>BookingsCanceled</th>\n",
              "      <td>82580.0</td>\n",
              "      <td>2.05e-03</td>\n",
              "      <td>0.07</td>\n",
              "      <td>0.0</td>\n",
              "      <td>0.0</td>\n",
              "      <td>0.00</td>\n",
              "      <td>0.0</td>\n",
              "      <td>9.00</td>\n",
              "    </tr>\n",
              "    <tr>\n",
              "      <th>BookingsNoShowed</th>\n",
              "      <td>82580.0</td>\n",
              "      <td>6.42e-04</td>\n",
              "      <td>0.03</td>\n",
              "      <td>0.0</td>\n",
              "      <td>0.0</td>\n",
              "      <td>0.00</td>\n",
              "      <td>0.0</td>\n",
              "      <td>3.00</td>\n",
              "    </tr>\n",
              "    <tr>\n",
              "      <th>BookingsCheckedIn</th>\n",
              "      <td>82580.0</td>\n",
              "      <td>7.98e-01</td>\n",
              "      <td>0.70</td>\n",
              "      <td>0.0</td>\n",
              "      <td>1.0</td>\n",
              "      <td>1.00</td>\n",
              "      <td>1.0</td>\n",
              "      <td>66.00</td>\n",
              "    </tr>\n",
              "    <tr>\n",
              "      <th>PersonsNights</th>\n",
              "      <td>82580.0</td>\n",
              "      <td>4.67e+00</td>\n",
              "      <td>4.56</td>\n",
              "      <td>0.0</td>\n",
              "      <td>1.0</td>\n",
              "      <td>4.00</td>\n",
              "      <td>7.0</td>\n",
              "      <td>116.00</td>\n",
              "    </tr>\n",
              "    <tr>\n",
              "      <th>RoomNights</th>\n",
              "      <td>82580.0</td>\n",
              "      <td>2.37e+00</td>\n",
              "      <td>2.28</td>\n",
              "      <td>0.0</td>\n",
              "      <td>1.0</td>\n",
              "      <td>2.00</td>\n",
              "      <td>4.0</td>\n",
              "      <td>185.00</td>\n",
              "    </tr>\n",
              "    <tr>\n",
              "      <th>DaysSinceLastStay</th>\n",
              "      <td>82580.0</td>\n",
              "      <td>4.06e+02</td>\n",
              "      <td>346.50</td>\n",
              "      <td>-1.0</td>\n",
              "      <td>42.0</td>\n",
              "      <td>378.00</td>\n",
              "      <td>698.0</td>\n",
              "      <td>1104.00</td>\n",
              "    </tr>\n",
              "    <tr>\n",
              "      <th>DaysSinceFirstStay</th>\n",
              "      <td>82580.0</td>\n",
              "      <td>4.08e+02</td>\n",
              "      <td>347.25</td>\n",
              "      <td>-1.0</td>\n",
              "      <td>44.0</td>\n",
              "      <td>388.00</td>\n",
              "      <td>705.0</td>\n",
              "      <td>1186.00</td>\n",
              "    </tr>\n",
              "    <tr>\n",
              "      <th>SRHighFloor</th>\n",
              "      <td>82580.0</td>\n",
              "      <td>4.75e-02</td>\n",
              "      <td>0.21</td>\n",
              "      <td>0.0</td>\n",
              "      <td>0.0</td>\n",
              "      <td>0.00</td>\n",
              "      <td>0.0</td>\n",
              "      <td>1.00</td>\n",
              "    </tr>\n",
              "    <tr>\n",
              "      <th>SRLowFloor</th>\n",
              "      <td>82580.0</td>\n",
              "      <td>1.43e-03</td>\n",
              "      <td>0.04</td>\n",
              "      <td>0.0</td>\n",
              "      <td>0.0</td>\n",
              "      <td>0.00</td>\n",
              "      <td>0.0</td>\n",
              "      <td>1.00</td>\n",
              "    </tr>\n",
              "    <tr>\n",
              "      <th>SRAccessibleRoom</th>\n",
              "      <td>82580.0</td>\n",
              "      <td>2.54e-04</td>\n",
              "      <td>0.02</td>\n",
              "      <td>0.0</td>\n",
              "      <td>0.0</td>\n",
              "      <td>0.00</td>\n",
              "      <td>0.0</td>\n",
              "      <td>1.00</td>\n",
              "    </tr>\n",
              "    <tr>\n",
              "      <th>SRMediumFloor</th>\n",
              "      <td>82580.0</td>\n",
              "      <td>8.84e-04</td>\n",
              "      <td>0.03</td>\n",
              "      <td>0.0</td>\n",
              "      <td>0.0</td>\n",
              "      <td>0.00</td>\n",
              "      <td>0.0</td>\n",
              "      <td>1.00</td>\n",
              "    </tr>\n",
              "    <tr>\n",
              "      <th>SRBathtub</th>\n",
              "      <td>82580.0</td>\n",
              "      <td>2.81e-03</td>\n",
              "      <td>0.05</td>\n",
              "      <td>0.0</td>\n",
              "      <td>0.0</td>\n",
              "      <td>0.00</td>\n",
              "      <td>0.0</td>\n",
              "      <td>1.00</td>\n",
              "    </tr>\n",
              "    <tr>\n",
              "      <th>SRShower</th>\n",
              "      <td>82580.0</td>\n",
              "      <td>1.73e-03</td>\n",
              "      <td>0.04</td>\n",
              "      <td>0.0</td>\n",
              "      <td>0.0</td>\n",
              "      <td>0.00</td>\n",
              "      <td>0.0</td>\n",
              "      <td>1.00</td>\n",
              "    </tr>\n",
              "    <tr>\n",
              "      <th>SRCrib</th>\n",
              "      <td>82580.0</td>\n",
              "      <td>1.28e-02</td>\n",
              "      <td>0.11</td>\n",
              "      <td>0.0</td>\n",
              "      <td>0.0</td>\n",
              "      <td>0.00</td>\n",
              "      <td>0.0</td>\n",
              "      <td>1.00</td>\n",
              "    </tr>\n",
              "    <tr>\n",
              "      <th>SRKingSizeBed</th>\n",
              "      <td>82580.0</td>\n",
              "      <td>3.52e-01</td>\n",
              "      <td>0.48</td>\n",
              "      <td>0.0</td>\n",
              "      <td>0.0</td>\n",
              "      <td>0.00</td>\n",
              "      <td>1.0</td>\n",
              "      <td>1.00</td>\n",
              "    </tr>\n",
              "    <tr>\n",
              "      <th>SRTwinBed</th>\n",
              "      <td>82580.0</td>\n",
              "      <td>1.43e-01</td>\n",
              "      <td>0.35</td>\n",
              "      <td>0.0</td>\n",
              "      <td>0.0</td>\n",
              "      <td>0.00</td>\n",
              "      <td>0.0</td>\n",
              "      <td>1.00</td>\n",
              "    </tr>\n",
              "    <tr>\n",
              "      <th>SRNearElevator</th>\n",
              "      <td>82580.0</td>\n",
              "      <td>3.03e-04</td>\n",
              "      <td>0.02</td>\n",
              "      <td>0.0</td>\n",
              "      <td>0.0</td>\n",
              "      <td>0.00</td>\n",
              "      <td>0.0</td>\n",
              "      <td>1.00</td>\n",
              "    </tr>\n",
              "    <tr>\n",
              "      <th>SRAwayFromElevator</th>\n",
              "      <td>82580.0</td>\n",
              "      <td>3.55e-03</td>\n",
              "      <td>0.06</td>\n",
              "      <td>0.0</td>\n",
              "      <td>0.0</td>\n",
              "      <td>0.00</td>\n",
              "      <td>0.0</td>\n",
              "      <td>1.00</td>\n",
              "    </tr>\n",
              "    <tr>\n",
              "      <th>SRNoAlcoholInMiniBar</th>\n",
              "      <td>82580.0</td>\n",
              "      <td>1.21e-04</td>\n",
              "      <td>0.01</td>\n",
              "      <td>0.0</td>\n",
              "      <td>0.0</td>\n",
              "      <td>0.00</td>\n",
              "      <td>0.0</td>\n",
              "      <td>1.00</td>\n",
              "    </tr>\n",
              "    <tr>\n",
              "      <th>SRQuietRoom</th>\n",
              "      <td>82580.0</td>\n",
              "      <td>8.81e-02</td>\n",
              "      <td>0.28</td>\n",
              "      <td>0.0</td>\n",
              "      <td>0.0</td>\n",
              "      <td>0.00</td>\n",
              "      <td>0.0</td>\n",
              "      <td>1.00</td>\n",
              "    </tr>\n",
              "  </tbody>\n",
              "</table>\n",
              "</div>\n",
              "      <button class=\"colab-df-convert\" onclick=\"convertToInteractive('df-2f32cd6b-c013-4bf6-b129-4a15c4490b4c')\"\n",
              "              title=\"Convert this dataframe to an interactive table.\"\n",
              "              style=\"display:none;\">\n",
              "        \n",
              "  <svg xmlns=\"http://www.w3.org/2000/svg\" height=\"24px\"viewBox=\"0 0 24 24\"\n",
              "       width=\"24px\">\n",
              "    <path d=\"M0 0h24v24H0V0z\" fill=\"none\"/>\n",
              "    <path d=\"M18.56 5.44l.94 2.06.94-2.06 2.06-.94-2.06-.94-.94-2.06-.94 2.06-2.06.94zm-11 1L8.5 8.5l.94-2.06 2.06-.94-2.06-.94L8.5 2.5l-.94 2.06-2.06.94zm10 10l.94 2.06.94-2.06 2.06-.94-2.06-.94-.94-2.06-.94 2.06-2.06.94z\"/><path d=\"M17.41 7.96l-1.37-1.37c-.4-.4-.92-.59-1.43-.59-.52 0-1.04.2-1.43.59L10.3 9.45l-7.72 7.72c-.78.78-.78 2.05 0 2.83L4 21.41c.39.39.9.59 1.41.59.51 0 1.02-.2 1.41-.59l7.78-7.78 2.81-2.81c.8-.78.8-2.07 0-2.86zM5.41 20L4 18.59l7.72-7.72 1.47 1.35L5.41 20z\"/>\n",
              "  </svg>\n",
              "      </button>\n",
              "      \n",
              "  <style>\n",
              "    .colab-df-container {\n",
              "      display:flex;\n",
              "      flex-wrap:wrap;\n",
              "      gap: 12px;\n",
              "    }\n",
              "\n",
              "    .colab-df-convert {\n",
              "      background-color: #E8F0FE;\n",
              "      border: none;\n",
              "      border-radius: 50%;\n",
              "      cursor: pointer;\n",
              "      display: none;\n",
              "      fill: #1967D2;\n",
              "      height: 32px;\n",
              "      padding: 0 0 0 0;\n",
              "      width: 32px;\n",
              "    }\n",
              "\n",
              "    .colab-df-convert:hover {\n",
              "      background-color: #E2EBFA;\n",
              "      box-shadow: 0px 1px 2px rgba(60, 64, 67, 0.3), 0px 1px 3px 1px rgba(60, 64, 67, 0.15);\n",
              "      fill: #174EA6;\n",
              "    }\n",
              "\n",
              "    [theme=dark] .colab-df-convert {\n",
              "      background-color: #3B4455;\n",
              "      fill: #D2E3FC;\n",
              "    }\n",
              "\n",
              "    [theme=dark] .colab-df-convert:hover {\n",
              "      background-color: #434B5C;\n",
              "      box-shadow: 0px 1px 3px 1px rgba(0, 0, 0, 0.15);\n",
              "      filter: drop-shadow(0px 1px 2px rgba(0, 0, 0, 0.3));\n",
              "      fill: #FFFFFF;\n",
              "    }\n",
              "  </style>\n",
              "\n",
              "      <script>\n",
              "        const buttonEl =\n",
              "          document.querySelector('#df-2f32cd6b-c013-4bf6-b129-4a15c4490b4c button.colab-df-convert');\n",
              "        buttonEl.style.display =\n",
              "          google.colab.kernel.accessAllowed ? 'block' : 'none';\n",
              "\n",
              "        async function convertToInteractive(key) {\n",
              "          const element = document.querySelector('#df-2f32cd6b-c013-4bf6-b129-4a15c4490b4c');\n",
              "          const dataTable =\n",
              "            await google.colab.kernel.invokeFunction('convertToInteractive',\n",
              "                                                     [key], {});\n",
              "          if (!dataTable) return;\n",
              "\n",
              "          const docLinkHtml = 'Like what you see? Visit the ' +\n",
              "            '<a target=\"_blank\" href=https://colab.research.google.com/notebooks/data_table.ipynb>data table notebook</a>'\n",
              "            + ' to learn more about interactive tables.';\n",
              "          element.innerHTML = '';\n",
              "          dataTable['output_type'] = 'display_data';\n",
              "          await google.colab.output.renderOutput(dataTable, element);\n",
              "          const docLink = document.createElement('div');\n",
              "          docLink.innerHTML = docLinkHtml;\n",
              "          element.appendChild(docLink);\n",
              "        }\n",
              "      </script>\n",
              "    </div>\n",
              "  </div>\n",
              "  "
            ]
          },
          "metadata": {},
          "execution_count": 9
        }
      ],
      "source": [
        "df.describe().T"
      ]
    },
    {
      "cell_type": "markdown",
      "id": "35be377f-5e32-409d-9d63-aeccac46c87e",
      "metadata": {
        "id": "35be377f-5e32-409d-9d63-aeccac46c87e"
      },
      "source": [
        "We see some negative values in the 'min' column above that don't make sense. Let's make sure minimum values are zeros only."
      ]
    },
    {
      "cell_type": "code",
      "execution_count": null,
      "id": "eb6c1c2b-f36f-4ccd-83aa-8a88d8f98138",
      "metadata": {
        "id": "eb6c1c2b-f36f-4ccd-83aa-8a88d8f98138"
      },
      "outputs": [],
      "source": [
        "num_col = df.select_dtypes(exclude = object).columns\n",
        "df[df[num_col] < 0] = np.nan\n",
        "df.fillna(0, inplace = True)"
      ]
    },
    {
      "cell_type": "markdown",
      "id": "ad6eb01c-6182-48f5-9eda-0ac23373724a",
      "metadata": {
        "id": "ad6eb01c-6182-48f5-9eda-0ac23373724a"
      },
      "source": [
        "Let's make sure all columns have only one data type."
      ]
    },
    {
      "cell_type": "code",
      "execution_count": null,
      "id": "1f036729-0bc1-4184-a607-9433f9e8b577",
      "metadata": {
        "colab": {
          "base_uri": "https://localhost:8080/"
        },
        "id": "1f036729-0bc1-4184-a607-9433f9e8b577",
        "outputId": "5838a8eb-89ef-4c52-d94e-a4d21ffe500a",
        "tags": []
      },
      "outputs": [
        {
          "output_type": "execute_result",
          "data": {
            "text/plain": [
              "True"
            ]
          },
          "metadata": {},
          "execution_count": 11
        }
      ],
      "source": [
        "(df.applymap(type).apply(pd.value_counts).fillna(0).nunique() - 1).all() == 1"
      ]
    },
    {
      "cell_type": "markdown",
      "id": "af858bf7-1cb4-43cd-81db-2e869dd0dde4",
      "metadata": {
        "id": "af858bf7-1cb4-43cd-81db-2e869dd0dde4"
      },
      "source": [
        "Not seeing much correlation between BookingsCheckedin and the three string data type columns in the correlation matrix below"
      ]
    },
    {
      "cell_type": "code",
      "execution_count": null,
      "id": "5c87c6e9-3d7e-4ade-ad22-bdd77673bea5",
      "metadata": {
        "colab": {
          "base_uri": "https://localhost:8080/"
        },
        "id": "5c87c6e9-3d7e-4ade-ad22-bdd77673bea5",
        "outputId": "c8508978-1ba3-41e2-8fba-27160bb02548",
        "tags": []
      },
      "outputs": [
        {
          "output_type": "execute_result",
          "data": {
            "text/plain": [
              "Nationality            188\n",
              "DistributionChannel      4\n",
              "MarketSegment            7\n",
              "dtype: int64"
            ]
          },
          "metadata": {},
          "execution_count": 12
        }
      ],
      "source": [
        "df.select_dtypes(include=['object']).nunique()"
      ]
    },
    {
      "cell_type": "code",
      "execution_count": null,
      "id": "015675c8-8a33-4424-9461-b8e063dcad80",
      "metadata": {
        "colab": {
          "base_uri": "https://localhost:8080/",
          "height": 804
        },
        "id": "015675c8-8a33-4424-9461-b8e063dcad80",
        "outputId": "97fabc2b-e807-4385-d3ff-9fa74502dbb1"
      },
      "outputs": [
        {
          "output_type": "display_data",
          "data": {
            "text/plain": [
              "<Figure size 1728x864 with 2 Axes>"
            ],
            "image/png": "[encoded data removed]"
          },
          "metadata": {
            "needs_background": "light"
          }
        }
      ],
      "source": [
        "df['Nationality']  =df['Nationality'].astype('category').cat.codes\n",
        "df['DistributionChannel'] = df['DistributionChannel'].astype('category').cat.codes\n",
        "df['MarketSegment'] = df['MarketSegment'].astype('category').cat.codes\n",
        "plt.figure(figsize = (24, 12))\n",
        "sns.heatmap(df.corr().round(2), annot = None, cmap = 'Blues')\n",
        "plt.show()"
      ]
    },
    {
      "cell_type": "markdown",
      "id": "2c0be481-057a-4c7a-8109-fa839e525aae",
      "metadata": {
        "id": "2c0be481-057a-4c7a-8109-fa839e525aae"
      },
      "source": [
        "Since these aren't having any effect on our training results anyway, let's drop them."
      ]
    },
    {
      "cell_type": "code",
      "execution_count": null,
      "id": "b5cd94c4-9369-4c74-b5ad-56b807eb85e1",
      "metadata": {
        "id": "b5cd94c4-9369-4c74-b5ad-56b807eb85e1",
        "tags": []
      },
      "outputs": [],
      "source": [
        "df.drop(['Nationality', 'DistributionChannel', 'MarketSegment'], axis = 1, inplace = True)"
      ]
    },
    {
      "cell_type": "markdown",
      "id": "4a9c1f5e-0cd5-475d-9c5c-cc8e1c727799",
      "metadata": {
        "id": "4a9c1f5e-0cd5-475d-9c5c-cc8e1c727799"
      },
      "source": [
        "Making sure our test set shows customers either checked in or didn't."
      ]
    },
    {
      "cell_type": "code",
      "execution_count": null,
      "id": "a5da327a-f0aa-45ac-9bb2-519dc944dc10",
      "metadata": {
        "id": "a5da327a-f0aa-45ac-9bb2-519dc944dc10"
      },
      "outputs": [],
      "source": [
        "df.loc[df['BookingsCheckedIn'] > 1, 'BookingsCheckedIn'] = 1"
      ]
    },
    {
      "cell_type": "code",
      "execution_count": null,
      "id": "ff251565-77b4-4363-bcbf-e259cca58fb7",
      "metadata": {
        "colab": {
          "base_uri": "https://localhost:8080/"
        },
        "id": "ff251565-77b4-4363-bcbf-e259cca58fb7",
        "outputId": "90c78ece-c054-4617-9689-d00b30db2ba8"
      },
      "outputs": [
        {
          "output_type": "execute_result",
          "data": {
            "text/plain": [
              "SRNoAlcoholInMiniBar    90.86\n",
              "SRAccessibleRoom        62.69\n",
              "BookingsCanceled        57.95\n",
              "SRNearElevator          57.45\n",
              "BookingsNoShowed        54.80\n",
              "SRMediumFloor           33.59\n",
              "SRLowFloor              26.40\n",
              "SRShower                23.97\n",
              "SRBathtub               18.79\n",
              "SRAwayFromElevator      16.70\n",
              "RoomNights              11.31\n",
              "OtherRevenue            10.87\n",
              "SRCrib                   8.66\n",
              "LodgingRevenue           6.60\n",
              "SRHighFloor              4.25\n",
              "SRQuietRoom              2.91\n",
              "SRTwinBed                2.04\n",
              "PersonsNights            1.94\n",
              "AverageLeadTime          1.91\n",
              "SRKingSizeBed            0.62\n",
              "DaysSinceCreation        0.39\n",
              "DaysSinceLastStay        0.29\n",
              "DaysSinceFirstStay       0.28\n",
              "Age                     -0.16\n",
              "BookingsCheckedIn       -1.25\n",
              "dtype: float64"
            ]
          },
          "metadata": {},
          "execution_count": 16
        }
      ],
      "source": [
        "df.skew().sort_values(ascending=False)"
      ]
    },
    {
      "cell_type": "markdown",
      "id": "43ce977d-8a6c-4363-adf1-95e25c2458e3",
      "metadata": {
        "id": "43ce977d-8a6c-4363-adf1-95e25c2458e3"
      },
      "source": [
        "Columns beginning with the letters SR are too skewed and also have very low correlation but dropping them is only reducing our training accuracy."
      ]
    },
    {
      "cell_type": "code",
      "execution_count": null,
      "id": "9936df8d-7c0c-40b7-8072-9465d80dda77",
      "metadata": {
        "id": "9936df8d-7c0c-40b7-8072-9465d80dda77"
      },
      "outputs": [],
      "source": [
        "#df.drop(['SRHighFloor', 'SRLowFloor', 'SRAccessibleRoom', 'SRMediumFloor', 'SRBathtub', 'SRShower', 'SRCrib', 'SRKingSizeBed', 'SRTwinBed', 'SRNearElevator', 'SRAwayFromElevator', 'SRNoAlcoholInMiniBar', 'SRQuietRoom'], axis = 1, inplace = True)"
      ]
    },
    {
      "cell_type": "code",
      "execution_count": null,
      "id": "68db8716-8b44-4c19-b519-167ea9fa0ef4",
      "metadata": {
        "colab": {
          "base_uri": "https://localhost:8080/"
        },
        "id": "68db8716-8b44-4c19-b519-167ea9fa0ef4",
        "jupyter": {
          "outputs_hidden": false
        },
        "outputId": "7d05aa36-173a-4302-a7c3-8dbb03abddd4"
      },
      "outputs": [
        {
          "output_type": "execute_result",
          "data": {
            "text/plain": [
              "SRNoAlcoholInMiniBar    90.86\n",
              "SRAccessibleRoom        62.69\n",
              "BookingsCanceled        57.95\n",
              "SRNearElevator          57.45\n",
              "BookingsNoShowed        54.80\n",
              "SRMediumFloor           33.59\n",
              "SRLowFloor              26.40\n",
              "SRShower                23.97\n",
              "SRBathtub               18.79\n",
              "SRAwayFromElevator      16.70\n",
              "RoomNights              11.31\n",
              "OtherRevenue            10.87\n",
              "SRCrib                   8.66\n",
              "LodgingRevenue           6.60\n",
              "SRHighFloor              4.25\n",
              "SRQuietRoom              2.91\n",
              "SRTwinBed                2.04\n",
              "PersonsNights            1.94\n",
              "AverageLeadTime          1.91\n",
              "dtype: float64"
            ]
          },
          "metadata": {},
          "execution_count": 18
        }
      ],
      "source": [
        "skew_columns = (df.skew().sort_values(ascending=False))\n",
        "\n",
        "skew_columns = skew_columns.loc[skew_columns > 0.75]\n",
        "skew_columns"
      ]
    },
    {
      "cell_type": "code",
      "execution_count": null,
      "id": "7c297698-8178-41df-a52e-8f75a4f45feb",
      "metadata": {
        "id": "7c297698-8178-41df-a52e-8f75a4f45feb",
        "jupyter": {
          "outputs_hidden": false
        }
      },
      "outputs": [],
      "source": [
        "# Won't be performing log transform on skewed columns.\n",
        "#for col in skew_columns.index.tolist():\n",
        "#    df[col] = np.log1p(df[col])\n",
        "#df.skew().sort_values(ascending=False)"
      ]
    },
    {
      "cell_type": "code",
      "execution_count": null,
      "id": "9892e87c-879a-483c-b2ef-6557d294f1c1",
      "metadata": {
        "id": "9892e87c-879a-483c-b2ef-6557d294f1c1"
      },
      "outputs": [],
      "source": [
        "# Min-max scaling. This is also not needed.\n",
        "#checkins = df.BookingsCheckedIn\n",
        "#df_norm = df.drop('BookingsCheckedIn', axis=1, inplace = True)\n",
        "#df_norm = (df-df.min())/(df.max()-df.min())\n",
        "#df = pd.concat((df_norm, checkins), axis = 1)"
      ]
    },
    {
      "cell_type": "code",
      "execution_count": null,
      "id": "112ffdc3-0b7d-404d-a231-33075a56ce25",
      "metadata": {
        "colab": {
          "base_uri": "https://localhost:8080/"
        },
        "id": "112ffdc3-0b7d-404d-a231-33075a56ce25",
        "outputId": "90728b3f-8902-4e34-be94-9ab616921386"
      },
      "outputs": [
        {
          "output_type": "stream",
          "name": "stdout",
          "text": [
            "(66064, 24) (66064,)\n",
            "(16516, 24) (16516,)\n"
          ]
        }
      ],
      "source": [
        "feature_cols = df.columns[df.columns != 'BookingsCheckedIn']\n",
        "\n",
        "# Getting the split indexes.\n",
        "strat_shuf_split = StratifiedShuffleSplit(n_splits=1, \n",
        "                                          test_size=0.2, \n",
        "                                          random_state=21)\n",
        "\n",
        "train_idx, test_idx = next(strat_shuf_split.split(df[feature_cols], df.BookingsCheckedIn))\n",
        "\n",
        "# Creating the dataframes.\n",
        "\n",
        "X_train = df.loc[train_idx, feature_cols].astype(float)\n",
        "y_train = df.loc[train_idx, 'BookingsCheckedIn'].astype(float)\n",
        "\n",
        "X_test  = df.loc[test_idx, feature_cols].astype(float)\n",
        "y_test  = df.loc[test_idx, 'BookingsCheckedIn'].astype(float)\n",
        "\n",
        "print(X_train.shape, y_train.shape)\n",
        "print(X_test.shape, y_test.shape)"
      ]
    },
    {
      "cell_type": "code",
      "execution_count": null,
      "id": "b98571d7-8c56-4b53-941a-9c6cb754f412",
      "metadata": {
        "id": "b98571d7-8c56-4b53-941a-9c6cb754f412"
      },
      "outputs": [],
      "source": [
        "# Standard scaling is not having any positive effect.\n",
        "#scaler = StandardScaler()\n",
        "\n",
        "#X_train = scaler.fit_transform(X_train)\n",
        "#X_test = scaler.transform(X_test)"
      ]
    },
    {
      "cell_type": "code",
      "execution_count": null,
      "id": "d28ae705-bd4e-4662-a19e-72d87e1511a2",
      "metadata": {
        "colab": {
          "base_uri": "https://localhost:8080/"
        },
        "id": "d28ae705-bd4e-4662-a19e-72d87e1511a2",
        "outputId": "56b589ac-fc77-42d4-b199-83061922851e"
      },
      "outputs": [
        {
          "output_type": "stream",
          "name": "stdout",
          "text": [
            "[[    0 15515]\n",
            " [    1 50549]]\n"
          ]
        }
      ],
      "source": [
        "# Unique value counts in our target training data.\n",
        "unique, counts = np.unique(y_train, return_counts=True)\n",
        "result = np.column_stack((unique, counts)).astype(int)\n",
        "print(result)"
      ]
    },
    {
      "cell_type": "markdown",
      "id": "7a01198b-7aa6-4197-8545-9b2c33e33266",
      "metadata": {
        "id": "7a01198b-7aa6-4197-8545-9b2c33e33266"
      },
      "source": [
        "## Modeling"
      ]
    },
    {
      "cell_type": "markdown",
      "id": "8e70c0db-536c-49e3-b726-a96f0352db7b",
      "metadata": {
        "id": "8e70c0db-536c-49e3-b726-a96f0352db7b"
      },
      "source": [
        "Labels that are useful in plotting confusion matrix."
      ]
    },
    {
      "cell_type": "code",
      "execution_count": null,
      "id": "2b855cc4-18ed-4ac4-9815-efadb9d85ae9",
      "metadata": {
        "id": "2b855cc4-18ed-4ac4-9815-efadb9d85ae9"
      },
      "outputs": [],
      "source": [
        "labels = ['Will Checkin', 'Won\\'t Checkin']"
      ]
    },
    {
      "cell_type": "markdown",
      "id": "c1c6123c-74a7-4d43-8f86-57fed38b9016",
      "metadata": {
        "id": "c1c6123c-74a7-4d43-8f86-57fed38b9016"
      },
      "source": [
        "Function to plot the confusion matrix."
      ]
    },
    {
      "cell_type": "code",
      "execution_count": null,
      "id": "668821a4-1fd4-4dba-a058-3f09b5e47dab",
      "metadata": {
        "id": "668821a4-1fd4-4dba-a058-3f09b5e47dab"
      },
      "outputs": [],
      "source": [
        "def plot_confusion_matrix(cm, classes,\n",
        "                          normalize=False,\n",
        "                          title='Confusion matrix',\n",
        "                          cmap=plt.cm.Blues):\n",
        "    if normalize:\n",
        "        cm = cm.astype('float') / cm.sum(axis=1)[:, np.newaxis]\n",
        "\n",
        "    plt.imshow(cm, interpolation='nearest', cmap=cmap)\n",
        "    plt.title(title)\n",
        "    plt.colorbar()\n",
        "    tick_marks = np.arange(len(classes))\n",
        "    plt.xticks(tick_marks, classes, rotation=90)\n",
        "    plt.yticks(tick_marks, classes)\n",
        "\n",
        "    fmt = '.2f' if normalize else 'd'\n",
        "    thresh = cm.max() / 2.\n",
        "    for i, j in itertools.product(range(cm.shape[0]), range(cm.shape[1])):\n",
        "        plt.text(j, i, format(cm[i, j], fmt),\n",
        "                 horizontalalignment=\"center\",\n",
        "                 color=\"white\" if cm[i, j] > thresh else \"black\")\n",
        "\n",
        "    plt.tight_layout()\n",
        "    plt.ylabel('True label')\n",
        "    plt.xlabel('Predicted label')"
      ]
    },
    {
      "cell_type": "markdown",
      "id": "736bc962-c296-48c4-aeb9-1c6ddfe177a3",
      "metadata": {
        "id": "736bc962-c296-48c4-aeb9-1c6ddfe177a3"
      },
      "source": [
        "Functions to run specified model."
      ]
    },
    {
      "cell_type": "code",
      "execution_count": null,
      "id": "ee887644-520a-4f5a-8c2f-4d54e7efe48a",
      "metadata": {
        "id": "ee887644-520a-4f5a-8c2f-4d54e7efe48a"
      },
      "outputs": [],
      "source": [
        "def perform_model(model, X_train, y_train, X_test, y_test, class_labels, cm_normalize=True, \\\n",
        "                 print_cm=False, cm_cmap=plt.cm.Blues):\n",
        "    \n",
        "    \n",
        "    # to store results at various phases\n",
        "    results = dict()\n",
        "    \n",
        "    # time at which model starts training \n",
        "    train_start_time = datetime.now()\n",
        "    print('training the model..')\n",
        "    model.fit(X_train, y_train)\n",
        "    print('Done')\n",
        "    train_end_time = datetime.now()\n",
        "    results['training_time'] =  train_end_time - train_start_time\n",
        "    print('training_time(HH:MM:SS.ms) - {}'.format(results['training_time']))\n",
        "    \n",
        "    \n",
        "    # predict test data\n",
        "    print('Predicting test data')\n",
        "    test_start_time = datetime.now()\n",
        "    y_pred = model.predict(X_test)\n",
        "    test_end_time = datetime.now()\n",
        "    print('Done')\n",
        "    results['testing_time'] = test_end_time - test_start_time\n",
        "    print('testing time(HH:MM:SS:ms) - {}'.format(results['testing_time']))\n",
        "    results['predicted'] = y_pred\n",
        "   \n",
        "\n",
        "    # calculate overall accuracy of the model\n",
        "    accuracy = metrics.accuracy_score(y_true=y_test, y_pred=y_pred)\n",
        "    # store accuracy in results\n",
        "    results['accuracy'] = accuracy\n",
        "    print('\\nAccuracy: {}\\n'.format(round(accuracy, 2)))\n",
        "    \n",
        "    \n",
        "    # confusion matrix\n",
        "    cm = metrics.confusion_matrix(y_test, y_pred)\n",
        "    results['confusion_matrix'] = cm\n",
        "    if print_cm:\n",
        "        print('Confusion Matrix:')\n",
        "        print('{}'.format(cm))\n",
        "        \n",
        "    # plot confusin matrix\n",
        "    plt.figure(figsize=(8,8))\n",
        "    plt.grid(visible=False)\n",
        "    plot_confusion_matrix(cm, classes=class_labels, normalize=False, title='Confusion Matrix', cmap = cm_cmap)\n",
        "    plt.show()\n",
        "    \n",
        "    # get classification report\n",
        "    print('Classifiction Report:')\n",
        "    classification_report = metrics.classification_report(y_test, y_pred)\n",
        "    # store report in results\n",
        "    results['classification_report'] = classification_report\n",
        "    print(classification_report)\n",
        "    \n",
        "    # add the trained  model to the results\n",
        "    results['model'] = model\n",
        "    \n",
        "    return results\n",
        "\n",
        "def perform_deep_model(model, X_test, y_test, class_labels, cm_normalize=True, \\\n",
        "                 print_cm=False, cm_cmap=plt.cm.Blues):\n",
        "    \n",
        "    # to store results at various phases\n",
        "    results = dict()\n",
        "    \n",
        "    # predict test data\n",
        "    print('Predicting test data')\n",
        "    test_start_time = datetime.now()\n",
        "    \n",
        "    y_pred = model_net.predict(X_test)\n",
        "    y_pred = tf.greater(y_pred, .5)\n",
        "    \n",
        "    test_end_time = datetime.now()\n",
        "    print('Done')\n",
        "    results['testing_time'] = test_end_time - test_start_time\n",
        "    print('testing time(HH:MM:SS:ms) - {}'.format(results['testing_time']))\n",
        "    results['predicted'] = y_pred\n",
        "   \n",
        "\n",
        "    # calculate overall accuracy of the model\n",
        "    accuracy = metrics.accuracy_score(y_true=y_test, y_pred=y_pred)\n",
        "    # store accuracy in results\n",
        "    results['accuracy'] = accuracy\n",
        "    print('\\nAccuracy: {}\\n'.format(round(accuracy, 2)))\n",
        "    print('')\n",
        "    \n",
        "    \n",
        "    # confusion matrix\n",
        "    cm = metrics.confusion_matrix(y_test, y_pred)\n",
        "    results['confusion_matrix'] = cm\n",
        "    if print_cm:\n",
        "        print('Confusion Matrix:')\n",
        "        print('{}'.format(cm))\n",
        "        \n",
        "    # plot confusin matrix\n",
        "    plt.figure(figsize=(8,8))\n",
        "    plt.grid(visible=False)\n",
        "    plot_confusion_matrix(cm, classes=class_labels, normalize=False, title='Confusion Matrix', cmap = cm_cmap)\n",
        "    plt.show()\n",
        "    \n",
        "    # get classification report\n",
        "    print('Classifiction Report:')\n",
        "    classification_report = metrics.classification_report(y_test, y_pred, labels=np.unique(y_pred))\n",
        "    # store report in results\n",
        "    results['classification_report'] = classification_report\n",
        "    print(classification_report)\n",
        "    \n",
        "    # add the trained  model to the results\n",
        "    results['model'] = model\n",
        "    \n",
        "    #return results"
      ]
    },
    {
      "cell_type": "markdown",
      "id": "8ca3c930-1fe9-4792-968e-7ff92af7e067",
      "metadata": {
        "id": "8ca3c930-1fe9-4792-968e-7ff92af7e067"
      },
      "source": [
        "Method to print the gridsearch attributes."
      ]
    },
    {
      "cell_type": "code",
      "execution_count": null,
      "id": "a20f2d11-0cc3-4b43-9c7c-6f06e44d8f35",
      "metadata": {
        "id": "a20f2d11-0cc3-4b43-9c7c-6f06e44d8f35"
      },
      "outputs": [],
      "source": [
        "def print_grid_search_attributes(model):\n",
        "    # Estimator that gave highest score among all the estimators formed in GridSearch\n",
        "    print('Best Estimator: {}'.format(model.best_estimator_))\n",
        "    # parameters that gave best results while performing grid search\n",
        "    print('Best parameters: Parameters of best estimator : {}'.format(model.best_params_))\n",
        "    #  number of cross validation splits\n",
        "    print('No of CrossValidation Sets: Total number of cross validation sets: {}'.format(model.n_splits_))\n",
        "    # Average cross validated score of the best estimator, from the Grid Search \n",
        "    print('Average cross validated score of the best estimators: {}'.format(model.best_score_))"
      ]
    },
    {
      "cell_type": "markdown",
      "id": "650579ec-7a76-4556-9255-2b1fed3650e9",
      "metadata": {
        "id": "650579ec-7a76-4556-9255-2b1fed3650e9"
      },
      "source": [
        "### 1. LinearSVC"
      ]
    },
    {
      "cell_type": "code",
      "execution_count": null,
      "id": "da1dbd87-a85b-4c14-9f62-ca7c7317f1db",
      "metadata": {
        "colab": {
          "base_uri": "https://localhost:8080/"
        },
        "id": "da1dbd87-a85b-4c14-9f62-ca7c7317f1db",
        "outputId": "eca2a143-68fa-4411-c9d4-7338cd8cd4df"
      },
      "outputs": [
        {
          "output_type": "stream",
          "name": "stdout",
          "text": [
            "training the model..\n",
            "Fitting 5 folds for each of 6 candidates, totalling 30 fits\n",
            "Done\n",
            "training_time(HH:MM:SS.ms) - 0:00:11.919312\n",
            "Predicting test data\n",
            "Done\n",
            "testing time(HH:MM:SS:ms) - 0:00:00.021733\n",
            "\n",
            "Accuracy: 1.0\n",
            "\n"
          ]
        },
        {
          "output_type": "display_data",
          "data": {
            "text/plain": [
              "<Figure size 576x576 with 2 Axes>"
            ],
            "image/png": "[encoded data removed]"
          },
          "metadata": {
            "needs_background": "light"
          }
        },
        {
          "output_type": "stream",
          "name": "stdout",
          "text": [
            "Classifiction Report:\n",
            "              precision    recall  f1-score   support\n",
            "\n",
            "         0.0       1.00      1.00      1.00      3879\n",
            "         1.0       1.00      1.00      1.00     12637\n",
            "\n",
            "    accuracy                           1.00     16516\n",
            "   macro avg       1.00      1.00      1.00     16516\n",
            "weighted avg       1.00      1.00      1.00     16516\n",
            "\n",
            "Best Estimator: LinearSVC(C=0.125, random_state=21, tol=5e-05)\n",
            "Best parameters: Parameters of best estimator : {'C': 0.125}\n",
            "No of CrossValidation Sets: Total number of cross validation sets: 5\n",
            "Average cross validated score of the best estimators: 0.9999848633921138\n"
          ]
        }
      ],
      "source": [
        "parameters = {'C':[0.125, 0.5, 1, 2, 8, 16]}\n",
        "lr_svc = LinearSVC(tol=0.00005, max_iter=1000, random_state = 21)\n",
        "lr_svc_grid = GridSearchCV(lr_svc, param_grid=parameters, n_jobs=-1, verbose=1)\n",
        "lr_svc_grid_results = perform_model(lr_svc_grid, X_train, y_train, X_test, y_test, class_labels=labels)\n",
        "print_grid_search_attributes(lr_svc_grid_results['model'])"
      ]
    },
    {
      "cell_type": "code",
      "execution_count": null,
      "id": "893c4fd4-0d77-4b87-997f-12e589f058c5",
      "metadata": {
        "colab": {
          "base_uri": "https://localhost:8080/"
        },
        "id": "893c4fd4-0d77-4b87-997f-12e589f058c5",
        "outputId": "26fb8066-e6ee-4e0c-b1d2-cd99b5416bfb"
      },
      "outputs": [
        {
          "output_type": "execute_result",
          "data": {
            "text/plain": [
              "LinearSVC(C=0.125, random_state=21, tol=5e-05)"
            ]
          },
          "metadata": {},
          "execution_count": 29
        }
      ],
      "source": [
        "model_svc = LinearSVC(C = 0.125, tol = 5e-05, random_state = 21)\n",
        "model_svc.fit(X_train, y_train)"
      ]
    },
    {
      "cell_type": "markdown",
      "id": "8619f046-d848-4d53-8c33-32e159b7c1d9",
      "metadata": {
        "id": "8619f046-d848-4d53-8c33-32e159b7c1d9"
      },
      "source": [
        "### 2. Decision Tree"
      ]
    },
    {
      "cell_type": "code",
      "execution_count": null,
      "id": "177d644d-b2f5-4b18-a3c0-2c54b8e95949",
      "metadata": {
        "colab": {
          "base_uri": "https://localhost:8080/"
        },
        "id": "177d644d-b2f5-4b18-a3c0-2c54b8e95949",
        "outputId": "f7a856f2-01b3-4994-fb1d-5fd7504b65a5"
      },
      "outputs": [
        {
          "output_type": "stream",
          "name": "stdout",
          "text": [
            "training the model..\n",
            "Done\n",
            "training_time(HH:MM:SS.ms) - 0:00:02.394154\n",
            "Predicting test data\n",
            "Done\n",
            "testing time(HH:MM:SS:ms) - 0:00:00.005468\n",
            "\n",
            "Accuracy: 1.0\n",
            "\n"
          ]
        },
        {
          "output_type": "display_data",
          "data": {
            "text/plain": [
              "<Figure size 576x576 with 2 Axes>"
            ],
            "image/png": "[encoded data removed]"
          },
          "metadata": {
            "needs_background": "light"
          }
        },
        {
          "output_type": "stream",
          "name": "stdout",
          "text": [
            "Classifiction Report:\n",
            "              precision    recall  f1-score   support\n",
            "\n",
            "         0.0       1.00      1.00      1.00      3879\n",
            "         1.0       1.00      1.00      1.00     12637\n",
            "\n",
            "    accuracy                           1.00     16516\n",
            "   macro avg       1.00      1.00      1.00     16516\n",
            "weighted avg       1.00      1.00      1.00     16516\n",
            "\n",
            "Best Estimator: DecisionTreeClassifier(max_depth=3, random_state=21)\n",
            "Best parameters: Parameters of best estimator : {'max_depth': 3}\n",
            "No of CrossValidation Sets: Total number of cross validation sets: 5\n",
            "Average cross validated score of the best estimators: 0.9999848622464427\n"
          ]
        }
      ],
      "source": [
        "parameters = {'max_depth':np.arange(3,10,2)}\n",
        "dt = DecisionTreeClassifier(random_state = 21)\n",
        "dt_grid = GridSearchCV(dt,param_grid=parameters, n_jobs=-1)\n",
        "dt_grid_results = perform_model(dt_grid, X_train, y_train, X_test, y_test, class_labels=labels)\n",
        "print_grid_search_attributes(dt_grid_results['model'])"
      ]
    },
    {
      "cell_type": "code",
      "execution_count": null,
      "id": "20de6f15-58a5-4621-a3bb-1e0171b23c4b",
      "metadata": {
        "colab": {
          "base_uri": "https://localhost:8080/"
        },
        "id": "20de6f15-58a5-4621-a3bb-1e0171b23c4b",
        "outputId": "8da37bd3-c217-4f94-fc1f-1205d009d73d"
      },
      "outputs": [
        {
          "output_type": "execute_result",
          "data": {
            "text/plain": [
              "DecisionTreeClassifier(max_depth=3, random_state=21)"
            ]
          },
          "metadata": {},
          "execution_count": 31
        }
      ],
      "source": [
        "model_tree = DecisionTreeClassifier(max_depth=3, random_state = 21)\n",
        "model_tree.fit(X_train, y_train)"
      ]
    },
    {
      "cell_type": "markdown",
      "id": "0ab989b3-e88c-4d69-aee6-10ac0cf1ed25",
      "metadata": {
        "id": "0ab989b3-e88c-4d69-aee6-10ac0cf1ed25",
        "tags": []
      },
      "source": [
        "### 3. Neural Net"
      ]
    },
    {
      "cell_type": "code",
      "execution_count": null,
      "id": "a9f4bb26-a861-41aa-a029-31238ff4d7f6",
      "metadata": {
        "id": "a9f4bb26-a861-41aa-a029-31238ff4d7f6",
        "colab": {
          "base_uri": "https://localhost:8080/"
        },
        "outputId": "cb854a45-16aa-446d-8025-0a2cc7a849d3"
      },
      "outputs": [
        {
          "output_type": "stream",
          "name": "stdout",
          "text": [
            "Model: \"sequential\"\n",
            "_________________________________________________________________\n",
            " Layer (type)                Output Shape              Param #   \n",
            "=================================================================\n",
            " dense (Dense)               (None, 12)                300       \n",
            "                                                                 \n",
            " dense_1 (Dense)             (None, 1)                 13        \n",
            "                                                                 \n",
            "=================================================================\n",
            "Total params: 313\n",
            "Trainable params: 313\n",
            "Non-trainable params: 0\n",
            "_________________________________________________________________\n"
          ]
        }
      ],
      "source": [
        "model_net = Sequential()\n",
        "\n",
        "model_net.add(Dense(12, activation = 'sigmoid', input_dim = 24))\n",
        "model_net.add(Dense(1, activation = 'sigmoid'))\n",
        "\n",
        "model_net.summary()"
      ]
    },
    {
      "cell_type": "code",
      "execution_count": null,
      "id": "ddcc3f21-c532-4d5b-98c1-631a46d84197",
      "metadata": {
        "colab": {
          "base_uri": "https://localhost:8080/"
        },
        "id": "ddcc3f21-c532-4d5b-98c1-631a46d84197",
        "outputId": "f5dbb4ba-1ce3-4c66-991a-482f7a217522"
      },
      "outputs": [
        {
          "output_type": "stream",
          "name": "stdout",
          "text": [
            "training the model..\n",
            "Epoch 1/8\n",
            "826/826 [==============================] - 6s 6ms/step - loss: 0.1861 - accuracy: 0.9448 - val_loss: 0.0487 - val_accuracy: 1.0000\n",
            "Epoch 2/8\n",
            "826/826 [==============================] - 5s 6ms/step - loss: 0.0272 - accuracy: 1.0000 - val_loss: 0.0157 - val_accuracy: 1.0000\n",
            "Epoch 3/8\n",
            "826/826 [==============================] - 6s 8ms/step - loss: 0.0106 - accuracy: 1.0000 - val_loss: 0.0074 - val_accuracy: 1.0000\n",
            "Epoch 4/8\n",
            "826/826 [==============================] - 5s 6ms/step - loss: 0.0054 - accuracy: 1.0000 - val_loss: 0.0041 - val_accuracy: 1.0000\n",
            "Epoch 5/8\n",
            "826/826 [==============================] - 5s 6ms/step - loss: 0.0031 - accuracy: 1.0000 - val_loss: 0.0024 - val_accuracy: 1.0000\n",
            "Epoch 6/8\n",
            "826/826 [==============================] - 4s 5ms/step - loss: 0.0019 - accuracy: 1.0000 - val_loss: 0.0015 - val_accuracy: 1.0000\n",
            "Epoch 7/8\n",
            "826/826 [==============================] - 3s 4ms/step - loss: 0.0012 - accuracy: 1.0000 - val_loss: 9.6578e-04 - val_accuracy: 1.0000\n",
            "Epoch 8/8\n",
            "826/826 [==============================] - 2s 3ms/step - loss: 7.7039e-04 - accuracy: 1.0000 - val_loss: 6.2774e-04 - val_accuracy: 1.0000\n",
            "Done\n",
            "training_time(HH:MM:SS.ms) - 0:00:37.166369\n"
          ]
        }
      ],
      "source": [
        "# time at which model starts training \n",
        "train_start_time = datetime.now()\n",
        "print('training the model..')\n",
        "\n",
        "model_net.compile(optimizer='Adam', loss='binary_crossentropy', metrics=['accuracy'])\n",
        "\n",
        "epochs = 8\n",
        "batch_size = 64\n",
        "\n",
        "\n",
        "run_hist = model_net.fit(X_train, y_train,\n",
        "                      batch_size = batch_size, \n",
        "                      epochs = epochs, verbose = 1, \n",
        "                      validation_split = 0.2)\n",
        "\n",
        "print('Done')\n",
        "train_end_time = datetime.now()\n",
        "time = dict()\n",
        "time['training_time'] =  train_end_time - train_start_time\n",
        "print('training_time(HH:MM:SS.ms) - {}'.format(time['training_time']))"
      ]
    },
    {
      "cell_type": "code",
      "execution_count": null,
      "id": "247449a6-ed6e-4d61-b514-54788d30fd81",
      "metadata": {
        "colab": {
          "base_uri": "https://localhost:8080/"
        },
        "id": "247449a6-ed6e-4d61-b514-54788d30fd81",
        "outputId": "39fe2f01-3eaa-42ef-ecd5-7a8f28ed00f3"
      },
      "outputs": [
        {
          "output_type": "stream",
          "name": "stdout",
          "text": [
            "Predicting test data\n",
            "517/517 [==============================] - 1s 1ms/step\n",
            "Done\n",
            "testing time(HH:MM:SS:ms) - 0:00:00.923124\n",
            "\n",
            "Accuracy: 1.0\n",
            "\n",
            "\n"
          ]
        },
        {
          "output_type": "display_data",
          "data": {
            "text/plain": [
              "<Figure size 576x576 with 2 Axes>"
            ],
            "image/png": "[encoded data removed]"
          },
          "metadata": {
            "needs_background": "light"
          }
        },
        {
          "output_type": "stream",
          "name": "stdout",
          "text": [
            "Classifiction Report:\n",
            "              precision    recall  f1-score   support\n",
            "\n",
            "       False       1.00      1.00      1.00      3879\n",
            "        True       1.00      1.00      1.00     12637\n",
            "\n",
            "    accuracy                           1.00     16516\n",
            "   macro avg       1.00      1.00      1.00     16516\n",
            "weighted avg       1.00      1.00      1.00     16516\n",
            "\n"
          ]
        }
      ],
      "source": [
        "perform_deep_model(model_net, X_test, y_test, class_labels = labels)"
      ]
    },
    {
      "cell_type": "code",
      "execution_count": null,
      "id": "4dd59125-08ec-44ad-b95e-f8ee98b1c22c",
      "metadata": {
        "id": "4dd59125-08ec-44ad-b95e-f8ee98b1c22c",
        "colab": {
          "base_uri": "https://localhost:8080/"
        },
        "outputId": "91098be7-e11e-44bb-b067-6963eebd4fd0"
      },
      "outputs": [
        {
          "output_type": "stream",
          "name": "stdout",
          "text": [
            "517/517 [==============================] - 1s 1ms/step\n"
          ]
        }
      ],
      "source": [
        "y_pred = model_net.predict(X_test)\n",
        "y_pred = tf.greater(y_pred, .5)"
      ]
    },
    {
      "cell_type": "markdown",
      "id": "17540b2a-c754-4cc9-8720-ef04c492c15b",
      "metadata": {
        "id": "17540b2a-c754-4cc9-8720-ef04c492c15b"
      },
      "source": [
        "### Comparing All Models\n",
        "<hr>"
      ]
    },
    {
      "cell_type": "code",
      "execution_count": null,
      "id": "61274442-3567-4169-aca8-a4a79c4d3a0b",
      "metadata": {
        "colab": {
          "base_uri": "https://localhost:8080/"
        },
        "id": "61274442-3567-4169-aca8-a4a79c4d3a0b",
        "outputId": "43c5617a-231f-4dda-f948-594f7a3ba1a8",
        "scrolled": true
      },
      "outputs": [
        {
          "output_type": "stream",
          "name": "stdout",
          "text": [
            "\n",
            "                     Accuracy     Error\n",
            "                     ----------   --------\n",
            "Linear SVC          : 100.0%       0.0% \n",
            "DecisionTree        : 100.0%       0.0% \n",
            "Deep Learning       : 100.0%       0.0% \n",
            "\n",
            "\n"
          ]
        }
      ],
      "source": [
        "print('\\n                     Accuracy     Error')\n",
        "print('                     ----------   --------')\n",
        "\n",
        "print('Linear SVC          : {:.04}%       {:.04}% '.format(lr_svc_grid_results['accuracy'] * 100,\\\n",
        "                                                        100-(lr_svc_grid_results['accuracy'] * 100)))\n",
        "\n",
        "print('DecisionTree        : {:.04}%       {:.04}% '.format(dt_grid_results['accuracy'] * 100,\\\n",
        "                                                        100-(dt_grid_results['accuracy'] * 100)))\n",
        "\n",
        "print('Deep Learning       : {:.04}%       {:.04}% '.format(metrics.accuracy_score(y_true=y_test, y_pred=y_pred) * 100,\\\n",
        "                                                        100-(metrics.accuracy_score(y_true=y_test, y_pred=y_pred) * 100)))\n",
        "\n",
        "print('\\n')"
      ]
    },
    {
      "cell_type": "markdown",
      "id": "0c46e370-1b6e-48f9-803e-20a1b2004494",
      "metadata": {
        "id": "0c46e370-1b6e-48f9-803e-20a1b2004494",
        "tags": []
      },
      "source": [
        "## Testing"
      ]
    },
    {
      "cell_type": "markdown",
      "source": [
        "Functions to test model and clean data."
      ],
      "metadata": {
        "id": "WMEcfXxcIHbw"
      },
      "id": "WMEcfXxcIHbw"
    },
    {
      "cell_type": "code",
      "execution_count": null,
      "id": "07a2b0da-849e-4c9e-9db0-20b2c1efedc5",
      "metadata": {
        "id": "07a2b0da-849e-4c9e-9db0-20b2c1efedc5"
      },
      "outputs": [],
      "source": [
        "def test_model(model, X_test, y_test, class_labels, cm_normalize=True, \\\n",
        "                 print_cm=False, cm_cmap=plt.cm.Blues):\n",
        "        \n",
        "    # to store results at various phases\n",
        "    results = dict()\n",
        "    \n",
        "    # predict test data\n",
        "    print('Predicting test data')\n",
        "    test_start_time = datetime.now()\n",
        "    y_pred = model.predict(X_test)\n",
        "    test_end_time = datetime.now()\n",
        "    print('Done')\n",
        "    results['testing_time'] = test_end_time - test_start_time\n",
        "    print('testing time(HH:MM:SS:ms) - {}'.format(results['testing_time']))\n",
        "    results['predicted'] = y_pred\n",
        "   \n",
        "\n",
        "    # calculate overall accuracy of the model\n",
        "    accuracy = metrics.accuracy_score(y_true=y_test, y_pred=y_pred)\n",
        "    # store accuracy in results\n",
        "    results['accuracy'] = accuracy\n",
        "    print('\\nAccuracy: {}\\n'.format(round(accuracy, 2)))\n",
        "    \n",
        "    \n",
        "    # confusion matrix\n",
        "    cm = metrics.confusion_matrix(y_test, y_pred)\n",
        "    results['confusion_matrix'] = cm\n",
        "    if print_cm:\n",
        "        print('Confusion Matrix:')\n",
        "        print('{}'.format(cm))\n",
        "        \n",
        "    # plot confusin matrix\n",
        "    plt.figure(figsize=(8,8))\n",
        "    plt.grid(visible=False)\n",
        "    plot_confusion_matrix(cm, classes=class_labels, normalize=False, title='Confusion Matrix', cmap = cm_cmap)\n",
        "    plt.show()\n",
        "    \n",
        "    # get classification report\n",
        "    print('Classifiction Report:')\n",
        "    classification_report = metrics.classification_report(y_test, y_pred, labels = np.unique(y_pred))\n",
        "    # store report in results\n",
        "    results['classification_report'] = classification_report\n",
        "    print(classification_report)\n",
        "    \n",
        "    # add the trained  model to the results\n",
        "    results['model'] = model\n",
        "    \n",
        "    #return results\n",
        "\n",
        "def test_deep_model(model, X_test, y_test, class_labels, cm_normalize=True, \\\n",
        "                 print_cm=False, cm_cmap=plt.cm.Blues):\n",
        "    \n",
        "    \n",
        "    # to store results at various phases\n",
        "    results = dict()\n",
        "    \n",
        "    # predict test data\n",
        "    print('Predicting test data')\n",
        "    test_start_time = datetime.now()\n",
        "    \n",
        "    y_pred = model_net.predict(X_test)\n",
        "    y_pred = tf.greater(y_pred, .5)\n",
        "    \n",
        "    test_end_time = datetime.now()\n",
        "    print('Done')\n",
        "    results['testing_time'] = test_end_time - test_start_time\n",
        "    print('testing time(HH:MM:SS:ms) - {}'.format(results['testing_time']))\n",
        "    results['predicted'] = y_pred\n",
        "   \n",
        "\n",
        "    # calculate overall accuracy of the model\n",
        "    accuracy = metrics.accuracy_score(y_true=y_test, y_pred=y_pred)\n",
        "    # store accuracy in results\n",
        "    results['accuracy'] = accuracy\n",
        "    print('\\nAccuracy: {}\\n'.format(round(accuracy, 2)))\n",
        "    \n",
        "    \n",
        "    # confusion matrix\n",
        "    cm = metrics.confusion_matrix(y_test, y_pred)\n",
        "    results['confusion_matrix'] = cm\n",
        "    if print_cm:\n",
        "        print('Confusion Matrix:')\n",
        "        print('{}'.format(cm))\n",
        "        \n",
        "    # plot confusin matrix\n",
        "    plt.figure(figsize=(8,8))\n",
        "    plt.grid(visible=False)\n",
        "    plot_confusion_matrix(cm, classes=class_labels, normalize=False, title='Confusion Matrix', cmap = cm_cmap)\n",
        "    plt.show()\n",
        "    \n",
        "    # get classification report\n",
        "    print('Classifiction Report:')\n",
        "    classification_report = metrics.classification_report(y_test, y_pred, labels=np.unique(y_pred))\n",
        "    # store report in results\n",
        "    results['classification_report'] = classification_report\n",
        "    print(classification_report)\n",
        "    \n",
        "    # add the trained  model to the results\n",
        "    results['model'] = model\n",
        "    \n",
        "    #return results\n",
        "\n",
        "def clean(df):\n",
        "    df.drop(['Unnamed: 0', 'ID'], axis = 1, inplace = True)\n",
        "    df['Age'] = df['Age'].fillna(df['Age'].mean())\n",
        "    num_col = df.select_dtypes(exclude = object).columns\n",
        "    df.drop(['Nationality', 'DistributionChannel', 'MarketSegment'], axis = 1, inplace = True)\n",
        "    df[df[num_col] < 0] = np.nan\n",
        "    df.fillna(0, inplace = True)\n",
        "    df.loc[df['BookingsCheckedIn'] > 1, 'BookingsCheckedIn'] = 1\n",
        "    skew_columns = (df.skew().sort_values(ascending=False))\n",
        "    skew_columns = skew_columns.loc[skew_columns > 0.75]\n",
        "    X_test = df.drop(['BookingsCheckedIn'], axis = 1)\n",
        "    print('Final shape of test data: {}'.format(X_test.shape))\n",
        "    y_test = df['BookingsCheckedIn']\n",
        "    return X_test, y_test"
      ]
    },
    {
      "cell_type": "code",
      "execution_count": null,
      "id": "466b268e-61ff-4c8a-99c0-c3ef4382b8c5",
      "metadata": {
        "colab": {
          "base_uri": "https://localhost:8080/"
        },
        "id": "466b268e-61ff-4c8a-99c0-c3ef4382b8c5",
        "outputId": "7acf7bd4-d761-4be7-8548-8a9ba79ea984",
        "tags": []
      },
      "outputs": [
        {
          "output_type": "execute_result",
          "data": {
            "text/plain": [
              "   Unnamed: 0     ID Nationality   Age  DaysSinceCreation  AverageLeadTime  \\\n",
              "0       82590  82591         SGP  47.0                 11                0   \n",
              "1       82591  82592         SGP  16.0                 11              130   \n",
              "2       82592  82593         SGP  15.0                 11                0   \n",
              "\n",
              "   LodgingRevenue  OtherRevenue  BookingsCanceled  BookingsNoShowed  \\\n",
              "0            0.00           0.0                 0                 0   \n",
              "1          483.48         155.1                 0                 0   \n",
              "2            0.00           0.0                 0                 0   \n",
              "\n",
              "   BookingsCheckedIn  PersonsNights  RoomNights  DaysSinceLastStay  \\\n",
              "0                  0              0           0                 -1   \n",
              "1                  1             15           5                 16   \n",
              "2                  0              0           0                 -1   \n",
              "\n",
              "   DaysSinceFirstStay    DistributionChannel MarketSegment  SRHighFloor  \\\n",
              "0                  -1  Travel Agent/Operator         Other            0   \n",
              "1                  16  Travel Agent/Operator         Other            0   \n",
              "2                  -1  Travel Agent/Operator         Other            0   \n",
              "\n",
              "   SRLowFloor  SRAccessibleRoom  SRMediumFloor  SRBathtub  SRShower  SRCrib  \\\n",
              "0           0                 0              0          0         0       0   \n",
              "1           0                 0              0          0         0       0   \n",
              "2           0                 0              0          0         0       0   \n",
              "\n",
              "   SRKingSizeBed  SRTwinBed  SRNearElevator  SRAwayFromElevator  \\\n",
              "0              0          0               0                   0   \n",
              "1              0          0               0                   0   \n",
              "2              0          0               0                   0   \n",
              "\n",
              "   SRNoAlcoholInMiniBar  SRQuietRoom  \n",
              "0                     0            0  \n",
              "1                     0            0  \n",
              "2                     0            0  "
            ],
            "text/html": [
              "\n",
              "  <div id=\"df-39fac140-1b22-47d9-8725-1f7d66cefbd3\">\n",
              "    <div class=\"colab-df-container\">\n",
              "      <div>\n",
              "<style scoped>\n",
              "    .dataframe tbody tr th:only-of-type {\n",
              "        vertical-align: middle;\n",
              "    }\n",
              "\n",
              "    .dataframe tbody tr th {\n",
              "        vertical-align: top;\n",
              "    }\n",
              "\n",
              "    .dataframe thead th {\n",
              "        text-align: right;\n",
              "    }\n",
              "</style>\n",
              "<table border=\"1\" class=\"dataframe\">\n",
              "  <thead>\n",
              "    <tr style=\"text-align: right;\">\n",
              "      <th></th>\n",
              "      <th>Unnamed: 0</th>\n",
              "      <th>ID</th>\n",
              "      <th>Nationality</th>\n",
              "      <th>Age</th>\n",
              "      <th>DaysSinceCreation</th>\n",
              "      <th>AverageLeadTime</th>\n",
              "      <th>LodgingRevenue</th>\n",
              "      <th>OtherRevenue</th>\n",
              "      <th>BookingsCanceled</th>\n",
              "      <th>BookingsNoShowed</th>\n",
              "      <th>BookingsCheckedIn</th>\n",
              "      <th>PersonsNights</th>\n",
              "      <th>RoomNights</th>\n",
              "      <th>DaysSinceLastStay</th>\n",
              "      <th>DaysSinceFirstStay</th>\n",
              "      <th>DistributionChannel</th>\n",
              "      <th>MarketSegment</th>\n",
              "      <th>SRHighFloor</th>\n",
              "      <th>SRLowFloor</th>\n",
              "      <th>SRAccessibleRoom</th>\n",
              "      <th>SRMediumFloor</th>\n",
              "      <th>SRBathtub</th>\n",
              "      <th>SRShower</th>\n",
              "      <th>SRCrib</th>\n",
              "      <th>SRKingSizeBed</th>\n",
              "      <th>SRTwinBed</th>\n",
              "      <th>SRNearElevator</th>\n",
              "      <th>SRAwayFromElevator</th>\n",
              "      <th>SRNoAlcoholInMiniBar</th>\n",
              "      <th>SRQuietRoom</th>\n",
              "    </tr>\n",
              "  </thead>\n",
              "  <tbody>\n",
              "    <tr>\n",
              "      <th>0</th>\n",
              "      <td>82590</td>\n",
              "      <td>82591</td>\n",
              "      <td>SGP</td>\n",
              "      <td>47.0</td>\n",
              "      <td>11</td>\n",
              "      <td>0</td>\n",
              "      <td>0.00</td>\n",
              "      <td>0.0</td>\n",
              "      <td>0</td>\n",
              "      <td>0</td>\n",
              "      <td>0</td>\n",
              "      <td>0</td>\n",
              "      <td>0</td>\n",
              "      <td>-1</td>\n",
              "      <td>-1</td>\n",
              "      <td>Travel Agent/Operator</td>\n",
              "      <td>Other</td>\n",
              "      <td>0</td>\n",
              "      <td>0</td>\n",
              "      <td>0</td>\n",
              "      <td>0</td>\n",
              "      <td>0</td>\n",
              "      <td>0</td>\n",
              "      <td>0</td>\n",
              "      <td>0</td>\n",
              "      <td>0</td>\n",
              "      <td>0</td>\n",
              "      <td>0</td>\n",
              "      <td>0</td>\n",
              "      <td>0</td>\n",
              "    </tr>\n",
              "    <tr>\n",
              "      <th>1</th>\n",
              "      <td>82591</td>\n",
              "      <td>82592</td>\n",
              "      <td>SGP</td>\n",
              "      <td>16.0</td>\n",
              "      <td>11</td>\n",
              "      <td>130</td>\n",
              "      <td>483.48</td>\n",
              "      <td>155.1</td>\n",
              "      <td>0</td>\n",
              "      <td>0</td>\n",
              "      <td>1</td>\n",
              "      <td>15</td>\n",
              "      <td>5</td>\n",
              "      <td>16</td>\n",
              "      <td>16</td>\n",
              "      <td>Travel Agent/Operator</td>\n",
              "      <td>Other</td>\n",
              "      <td>0</td>\n",
              "      <td>0</td>\n",
              "      <td>0</td>\n",
              "      <td>0</td>\n",
              "      <td>0</td>\n",
              "      <td>0</td>\n",
              "      <td>0</td>\n",
              "      <td>0</td>\n",
              "      <td>0</td>\n",
              "      <td>0</td>\n",
              "      <td>0</td>\n",
              "      <td>0</td>\n",
              "      <td>0</td>\n",
              "    </tr>\n",
              "    <tr>\n",
              "      <th>2</th>\n",
              "      <td>82592</td>\n",
              "      <td>82593</td>\n",
              "      <td>SGP</td>\n",
              "      <td>15.0</td>\n",
              "      <td>11</td>\n",
              "      <td>0</td>\n",
              "      <td>0.00</td>\n",
              "      <td>0.0</td>\n",
              "      <td>0</td>\n",
              "      <td>0</td>\n",
              "      <td>0</td>\n",
              "      <td>0</td>\n",
              "      <td>0</td>\n",
              "      <td>-1</td>\n",
              "      <td>-1</td>\n",
              "      <td>Travel Agent/Operator</td>\n",
              "      <td>Other</td>\n",
              "      <td>0</td>\n",
              "      <td>0</td>\n",
              "      <td>0</td>\n",
              "      <td>0</td>\n",
              "      <td>0</td>\n",
              "      <td>0</td>\n",
              "      <td>0</td>\n",
              "      <td>0</td>\n",
              "      <td>0</td>\n",
              "      <td>0</td>\n",
              "      <td>0</td>\n",
              "      <td>0</td>\n",
              "      <td>0</td>\n",
              "    </tr>\n",
              "  </tbody>\n",
              "</table>\n",
              "</div>\n",
              "      <button class=\"colab-df-convert\" onclick=\"convertToInteractive('df-39fac140-1b22-47d9-8725-1f7d66cefbd3')\"\n",
              "              title=\"Convert this dataframe to an interactive table.\"\n",
              "              style=\"display:none;\">\n",
              "        \n",
              "  <svg xmlns=\"http://www.w3.org/2000/svg\" height=\"24px\"viewBox=\"0 0 24 24\"\n",
              "       width=\"24px\">\n",
              "    <path d=\"M0 0h24v24H0V0z\" fill=\"none\"/>\n",
              "    <path d=\"M18.56 5.44l.94 2.06.94-2.06 2.06-.94-2.06-.94-.94-2.06-.94 2.06-2.06.94zm-11 1L8.5 8.5l.94-2.06 2.06-.94-2.06-.94L8.5 2.5l-.94 2.06-2.06.94zm10 10l.94 2.06.94-2.06 2.06-.94-2.06-.94-.94-2.06-.94 2.06-2.06.94z\"/><path d=\"M17.41 7.96l-1.37-1.37c-.4-.4-.92-.59-1.43-.59-.52 0-1.04.2-1.43.59L10.3 9.45l-7.72 7.72c-.78.78-.78 2.05 0 2.83L4 21.41c.39.39.9.59 1.41.59.51 0 1.02-.2 1.41-.59l7.78-7.78 2.81-2.81c.8-.78.8-2.07 0-2.86zM5.41 20L4 18.59l7.72-7.72 1.47 1.35L5.41 20z\"/>\n",
              "  </svg>\n",
              "      </button>\n",
              "      \n",
              "  <style>\n",
              "    .colab-df-container {\n",
              "      display:flex;\n",
              "      flex-wrap:wrap;\n",
              "      gap: 12px;\n",
              "    }\n",
              "\n",
              "    .colab-df-convert {\n",
              "      background-color: #E8F0FE;\n",
              "      border: none;\n",
              "      border-radius: 50%;\n",
              "      cursor: pointer;\n",
              "      display: none;\n",
              "      fill: #1967D2;\n",
              "      height: 32px;\n",
              "      padding: 0 0 0 0;\n",
              "      width: 32px;\n",
              "    }\n",
              "\n",
              "    .colab-df-convert:hover {\n",
              "      background-color: #E2EBFA;\n",
              "      box-shadow: 0px 1px 2px rgba(60, 64, 67, 0.3), 0px 1px 3px 1px rgba(60, 64, 67, 0.15);\n",
              "      fill: #174EA6;\n",
              "    }\n",
              "\n",
              "    [theme=dark] .colab-df-convert {\n",
              "      background-color: #3B4455;\n",
              "      fill: #D2E3FC;\n",
              "    }\n",
              "\n",
              "    [theme=dark] .colab-df-convert:hover {\n",
              "      background-color: #434B5C;\n",
              "      box-shadow: 0px 1px 3px 1px rgba(0, 0, 0, 0.15);\n",
              "      filter: drop-shadow(0px 1px 2px rgba(0, 0, 0, 0.3));\n",
              "      fill: #FFFFFF;\n",
              "    }\n",
              "  </style>\n",
              "\n",
              "      <script>\n",
              "        const buttonEl =\n",
              "          document.querySelector('#df-39fac140-1b22-47d9-8725-1f7d66cefbd3 button.colab-df-convert');\n",
              "        buttonEl.style.display =\n",
              "          google.colab.kernel.accessAllowed ? 'block' : 'none';\n",
              "\n",
              "        async function convertToInteractive(key) {\n",
              "          const element = document.querySelector('#df-39fac140-1b22-47d9-8725-1f7d66cefbd3');\n",
              "          const dataTable =\n",
              "            await google.colab.kernel.invokeFunction('convertToInteractive',\n",
              "                                                     [key], {});\n",
              "          if (!dataTable) return;\n",
              "\n",
              "          const docLinkHtml = 'Like what you see? Visit the ' +\n",
              "            '<a target=\"_blank\" href=https://colab.research.google.com/notebooks/data_table.ipynb>data table notebook</a>'\n",
              "            + ' to learn more about interactive tables.';\n",
              "          element.innerHTML = '';\n",
              "          dataTable['output_type'] = 'display_data';\n",
              "          await google.colab.output.renderOutput(dataTable, element);\n",
              "          const docLink = document.createElement('div');\n",
              "          docLink.innerHTML = docLinkHtml;\n",
              "          element.appendChild(docLink);\n",
              "        }\n",
              "      </script>\n",
              "    </div>\n",
              "  </div>\n",
              "  "
            ]
          },
          "metadata": {},
          "execution_count": 38
        }
      ],
      "source": [
        "df = pd.read_csv('https://github.com/Kanishk-Kumar/hotel_cust_cls/blob/main/test.csv?raw=true')\n",
        "df.head(3)"
      ]
    },
    {
      "cell_type": "code",
      "execution_count": null,
      "id": "b0b74a04-eea0-4c57-aabf-72b99052123f",
      "metadata": {
        "colab": {
          "base_uri": "https://localhost:8080/"
        },
        "id": "b0b74a04-eea0-4c57-aabf-72b99052123f",
        "outputId": "9e405712-5c14-43f6-c56f-d3240daf075b"
      },
      "outputs": [
        {
          "output_type": "stream",
          "name": "stdout",
          "text": [
            "Final shape of test data: (1000, 24)\n"
          ]
        }
      ],
      "source": [
        "X_test, y_test = clean(df)"
      ]
    },
    {
      "cell_type": "markdown",
      "id": "2c8396ca-d6f6-40f9-8596-c165e023da4c",
      "metadata": {
        "id": "2c8396ca-d6f6-40f9-8596-c165e023da4c"
      },
      "source": [
        "### 1. LinearSVC"
      ]
    },
    {
      "cell_type": "code",
      "execution_count": null,
      "id": "b234efc8-f0e0-4b3a-b64e-1cc23b70ea84",
      "metadata": {
        "colab": {
          "base_uri": "https://localhost:8080/"
        },
        "id": "b234efc8-f0e0-4b3a-b64e-1cc23b70ea84",
        "outputId": "dfdf3af6-b512-4c51-d61f-20bd1828c7c5"
      },
      "outputs": [
        {
          "output_type": "stream",
          "name": "stdout",
          "text": [
            "Predicting test data\n",
            "Done\n",
            "testing time(HH:MM:SS:ms) - 0:00:00.008346\n",
            "\n",
            "Accuracy: 1.0\n",
            "\n"
          ]
        },
        {
          "output_type": "display_data",
          "data": {
            "text/plain": [
              "<Figure size 576x576 with 2 Axes>"
            ],
            "image/png": "[encoded data removed]"
          },
          "metadata": {
            "needs_background": "light"
          }
        },
        {
          "output_type": "stream",
          "name": "stdout",
          "text": [
            "Classifiction Report:\n",
            "              precision    recall  f1-score   support\n",
            "\n",
            "         0.0       0.99      1.00      1.00       521\n",
            "         1.0       1.00      0.99      0.99       479\n",
            "\n",
            "    accuracy                           0.99      1000\n",
            "   macro avg       1.00      0.99      0.99      1000\n",
            "weighted avg       1.00      0.99      0.99      1000\n",
            "\n"
          ]
        }
      ],
      "source": [
        "test_model(model_svc, X_test, y_test, class_labels = labels)"
      ]
    },
    {
      "cell_type": "markdown",
      "id": "425c4391-fd94-40ea-a496-03285c145a1a",
      "metadata": {
        "id": "425c4391-fd94-40ea-a496-03285c145a1a"
      },
      "source": [
        "### 2. Decision Tree"
      ]
    },
    {
      "cell_type": "code",
      "execution_count": null,
      "id": "f09d31ef-cdc9-41ec-ac32-0e14b46f7755",
      "metadata": {
        "colab": {
          "base_uri": "https://localhost:8080/"
        },
        "id": "f09d31ef-cdc9-41ec-ac32-0e14b46f7755",
        "outputId": "8a8bddf5-9eb1-48ad-bc75-705b92e795ff"
      },
      "outputs": [
        {
          "output_type": "stream",
          "name": "stdout",
          "text": [
            "Predicting test data\n",
            "Done\n",
            "testing time(HH:MM:SS:ms) - 0:00:00.003929\n",
            "\n",
            "Accuracy: 1.0\n",
            "\n"
          ]
        },
        {
          "output_type": "display_data",
          "data": {
            "text/plain": [
              "<Figure size 576x576 with 2 Axes>"
            ],
            "image/png": "[encoded data removed]"
          },
          "metadata": {
            "needs_background": "light"
          }
        },
        {
          "output_type": "stream",
          "name": "stdout",
          "text": [
            "Classifiction Report:\n",
            "              precision    recall  f1-score   support\n",
            "\n",
            "         0.0       0.99      1.00      1.00       521\n",
            "         1.0       1.00      0.99      0.99       479\n",
            "\n",
            "    accuracy                           0.99      1000\n",
            "   macro avg       1.00      0.99      0.99      1000\n",
            "weighted avg       1.00      0.99      0.99      1000\n",
            "\n"
          ]
        }
      ],
      "source": [
        "test_model(model_tree, X_test, y_test, class_labels = labels)"
      ]
    },
    {
      "cell_type": "markdown",
      "id": "2fe6bbac-646e-44c2-aa07-af6fb2565e8c",
      "metadata": {
        "id": "2fe6bbac-646e-44c2-aa07-af6fb2565e8c"
      },
      "source": [
        "### 3. Neural Net"
      ]
    },
    {
      "cell_type": "code",
      "execution_count": null,
      "id": "30f1f695-d6a9-4588-9317-049e15987a2c",
      "metadata": {
        "colab": {
          "base_uri": "https://localhost:8080/"
        },
        "id": "30f1f695-d6a9-4588-9317-049e15987a2c",
        "outputId": "90e5441d-8428-4c85-b4e0-ba1c84db0302"
      },
      "outputs": [
        {
          "output_type": "stream",
          "name": "stdout",
          "text": [
            "Predicting test data\n",
            "32/32 [==============================] - 0s 1ms/step\n",
            "Done\n",
            "testing time(HH:MM:SS:ms) - 0:00:00.111894\n",
            "\n",
            "Accuracy: 1.0\n",
            "\n"
          ]
        },
        {
          "output_type": "display_data",
          "data": {
            "text/plain": [
              "<Figure size 576x576 with 2 Axes>"
            ],
            "image/png": "[encoded data removed]"
          },
          "metadata": {
            "needs_background": "light"
          }
        },
        {
          "output_type": "stream",
          "name": "stdout",
          "text": [
            "Classifiction Report:\n",
            "              precision    recall  f1-score   support\n",
            "\n",
            "       False       0.99      1.00      1.00       521\n",
            "        True       1.00      0.99      1.00       479\n",
            "\n",
            "    accuracy                           1.00      1000\n",
            "   macro avg       1.00      1.00      1.00      1000\n",
            "weighted avg       1.00      1.00      1.00      1000\n",
            "\n"
          ]
        }
      ],
      "source": [
        "test_deep_model(model_net, X_test, y_test, class_labels = labels)"
      ]
    },
    {
      "cell_type": "code",
      "source": [
        "# Saving our models.\n",
        "#import pickle\n",
        "\n",
        "#pickle.dump(model_svc, open('model_svc.pkl', 'wb'))\n",
        "#pickle.dump(model_tree, open('model_tree.pkl', 'wb'))\n",
        "#model_net.save('model_net.h5') # Lightweight format as we don't have much complex of a model."
      ],
      "metadata": {
        "id": "fC_vQMjB2rBe"
      },
      "id": "fC_vQMjB2rBe",
      "execution_count": null,
      "outputs": []
    },
    {
      "cell_type": "markdown",
      "id": "VLpO6jB-Wm3r",
      "metadata": {
        "id": "VLpO6jB-Wm3r"
      },
      "source": [
        "## Conclusion"
      ]
    },
    {
      "cell_type": "markdown",
      "id": "YtJ84mTJWvOS",
      "metadata": {
        "id": "YtJ84mTJWvOS"
      },
      "source": [
        "All three models have performed extremely well on the test dataset."
      ]
    },
    {
      "cell_type": "markdown",
      "source": [
        "#### Questions:"
      ],
      "metadata": {
        "id": "pKypbb1F6hsW"
      },
      "id": "pKypbb1F6hsW"
    },
    {
      "cell_type": "markdown",
      "source": [
        "**1. Write about any difficult problem that you solved. (According to us difficult - is\n",
        "something which 90% of people would have only 10% probability in getting a\n",
        "similarly good solution).**"
      ],
      "metadata": {
        "id": "pULZDbVc5nAT"
      },
      "id": "pULZDbVc5nAT"
    },
    {
      "cell_type": "markdown",
      "source": [
        "Answer:\n",
        "\n",
        "I did a project on time series analysis using Facebook Prophet and forecasted the gas prices of Britain for up to 15 days. I think Prophet library is for some reason not well maintained because I had to create a separate environment with an older Python version just to run it. Many of the codes I found online were deprecated and above all learning the statistics behind how to implement the model was the hardest part. I succeeded with acceptable accuracy. Compared to Prophet, TensorFlow's LSTM models are a black box, but I still ended up using TensorFlow in the end due to high accuracy."
      ],
      "metadata": {
        "id": "ososGSbk59sm"
      },
      "id": "ososGSbk59sm"
    },
    {
      "cell_type": "markdown",
      "source": [
        "**2. Explain back propagation and tell us how you handle a dataset if 4 out of 30\n",
        "parameters have null values more than 40 percentage**"
      ],
      "metadata": {
        "id": "tCusQ9Qh550u"
      },
      "id": "tCusQ9Qh550u"
    },
    {
      "cell_type": "markdown",
      "source": [
        "Answer:\n",
        "\n",
        "Back propagation essentially means that after each epoch, the model compares a batch of the predicted data with the real ones, the more the difference, the more the value of the cost function. To reduce that value it adjusts the weights and biases of all the neurons in the previous layer and then repeats the process for the layer before that and keeps repeating down to the very first layer and then continues with the next epoch with the adjusted weights and biases and keeps repeating the whole process until it reaches the local minimum of the cost function.\n",
        "\n",
        "4 out of 30 parameters having >40% null values isn't that bad. That much missing data is almost always not missing at random, so conducting a separate EDA on those could be very valuable. I'll change the column type to what they're supposed to be and check for their skewness. Further steps depend on a lot of other factors as well."
      ],
      "metadata": {
        "id": "YeiD0Ns25-YM"
      },
      "id": "YeiD0Ns25-YM"
    }
  ],
  "metadata": {
    "colab": {
      "collapsed_sections": [],
      "name": "project_v5.ipynb",
      "provenance": []
    },
    "kernelspec": {
      "display_name": "Python 3 (ipykernel)",
      "language": "python",
      "name": "python3"
    },
    "language_info": {
      "codemirror_mode": {
        "name": "ipython",
        "version": 3
      },
      "file_extension": ".py",
      "mimetype": "text/x-python",
      "name": "python",
      "nbconvert_exporter": "python",
      "pygments_lexer": "ipython3",
      "version": "3.9.12"
    }
  },
  "nbformat": 4,
  "nbformat_minor": 5
}
